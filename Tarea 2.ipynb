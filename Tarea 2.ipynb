{
 "cells": [
  {
   "cell_type": "markdown",
   "metadata": {},
   "source": [
    "# Tarea 2: análisis de sentimientos usando aprendizaje supervisado\n",
    "\n",
    "##### Por: Daniela Flores Villanueva \n",
    "\n",
    "## Sobre las librerías"
   ]
  },
  {
   "cell_type": "markdown",
   "metadata": {},
   "source": [
    "En primer lugar, se cargan todas las librerías empleadas en esta tarea:\n",
    "- `pandas`: librería utilizada para cargar la matriz GloVe y posteriormente, para confeccionar un `DataFrame` con palabras y su sentimiento asociado.\n",
    "- `csv`: utilizada para cargar los vectores, según lo dispuesto en [este](https://stackoverflow.com/questions/37793118/load-pretrained-glove-vectors-in-python) sitio.\n",
    "- `nltk`: se usó para cargar el *opinion lexicon* descrito en el enunciado de manera conveniente. Se probó además sus métodos para realizar lematización, proceso que consiste en, dada una palabra flexionada (en forma plural, verbo conjugado, etc), encontrar su lema, es decir, algo similar a la forma en que sería encontrada en un diccionario.\n",
    "- `string`: para obtener signos de puntuación, con el objeto de pre-procesar oraciones.\n",
    "- `sklearn`: se utilizaron sus implementaciones de *Support Vector Machines*, *K-Nearest Neighbors* y *Random Forest* para construir clasificadores para el sentimiento de palabras y posteriormente oraciones. Se aprovechó también `train_test_split` para separar los datos en conjuntos de entrenamiento y de prueba, `GridSearchCV` para la calibración de hiperparámetros y los métodos `accuracy_score`, `precision_score`, `recall_score` y `f1-score` para cuantificar el desempeño de los modelos. Finalmente `joblib` se utiliza para serializar y guardar los modelos entrenados."
   ]
  },
  {
   "cell_type": "code",
   "execution_count": 1,
   "metadata": {},
   "outputs": [
    {
     "name": "stdout",
     "output_type": "stream",
     "text": [
      "[nltk_data] Downloading package stopwords to\n",
      "[nltk_data]     /Users/DanielaFlores/nltk_data...\n",
      "[nltk_data]   Package stopwords is already up-to-date!\n",
      "[nltk_data] Downloading package opinion_lexicon to\n",
      "[nltk_data]     /Users/DanielaFlores/nltk_data...\n",
      "[nltk_data]   Package opinion_lexicon is already up-to-date!\n",
      "[nltk_data] Downloading package punkt to\n",
      "[nltk_data]     /Users/DanielaFlores/nltk_data...\n",
      "[nltk_data]   Package punkt is already up-to-date!\n"
     ]
    }
   ],
   "source": [
    "import pandas as pd\n",
    "import csv\n",
    "from nltk.stem import WordNetLemmatizer\n",
    "import numpy as np\n",
    "import nltk\n",
    "nltk.download(\"stopwords\")\n",
    "nltk.download(\"opinion_lexicon\")\n",
    "nltk.download('punkt')\n",
    "from nltk.corpus import opinion_lexicon\n",
    "from nltk.corpus import stopwords\n",
    "from nltk.tokenize import word_tokenize\n",
    "from string import punctuation\n",
    "from sklearn.model_selection import train_test_split\n",
    "from sklearn.model_selection import GridSearchCV\n",
    "from sklearn.svm import SVC\n",
    "from sklearn.neighbors import KNeighborsClassifier\n",
    "from sklearn.ensemble import RandomForestClassifier\n",
    "from sklearn.metrics import accuracy_score, precision_score, recall_score, f1_score\n",
    "from sklearn.externals import joblib\n",
    "import pickle\n",
    "import matplotlib.pyplot as plt\n",
    "from countryinfo import countries"
   ]
  },
  {
   "cell_type": "code",
   "execution_count": 2,
   "metadata": {},
   "outputs": [],
   "source": [
    "np.set_printoptions(formatter={'float_kind':'{:f}'.format})"
   ]
  },
  {
   "cell_type": "code",
   "execution_count": 3,
   "metadata": {},
   "outputs": [],
   "source": [
    "GLOVE_PATH = \"./glove.42B.300d.txt\""
   ]
  },
  {
   "cell_type": "code",
   "execution_count": 4,
   "metadata": {},
   "outputs": [],
   "source": [
    "NON_WORDS = list(punctuation)\n",
    "NON_WORDS.extend(map(str, range(10)))"
   ]
  },
  {
   "cell_type": "code",
   "execution_count": 5,
   "metadata": {},
   "outputs": [],
   "source": [
    "ENGLISH_STOPWORDS = stopwords.words(\"english\")"
   ]
  },
  {
   "cell_type": "markdown",
   "metadata": {},
   "source": [
    "La forma de cargar el opinion lexicon es la descrita en la [documentación](http://www.nltk.org/api/nltk.corpus.reader.html?highlight=wordnet) de NLTK."
   ]
  },
  {
   "cell_type": "code",
   "execution_count": 6,
   "metadata": {},
   "outputs": [],
   "source": [
    "positive_data = opinion_lexicon.positive()\n",
    "negative_data = opinion_lexicon.negative()"
   ]
  },
  {
   "cell_type": "markdown",
   "metadata": {},
   "source": [
    "Con el fin de tener una representación más general de las palabras, se convierte cada vocablo en las listas anteriores a minúsculas."
   ]
  },
  {
   "cell_type": "code",
   "execution_count": 7,
   "metadata": {},
   "outputs": [],
   "source": [
    "positive_data = [word.lower() for word in positive_data]\n",
    "negative_data = [word.lower() for word in negative_data]"
   ]
  },
  {
   "cell_type": "markdown",
   "metadata": {},
   "source": [
    "A continuación, se carga la matriz de *embeddings*:"
   ]
  },
  {
   "cell_type": "code",
   "execution_count": 8,
   "metadata": {},
   "outputs": [],
   "source": [
    "glove_matrix = pd.read_csv(GLOVE_PATH, sep=\" \", index_col=0, header=None, quoting=csv.QUOTE_NONE, na_values=None, keep_default_na=False)"
   ]
  },
  {
   "cell_type": "markdown",
   "metadata": {},
   "source": [
    "En el mismo recurso para cargar la matriz en memoria (adjunto en la descripción de las librerías utilizadas), se menciona una función que, dada una palabra, retorna su *embedding*. Esta función es `vec(w)`, definida a continuación:"
   ]
  },
  {
   "cell_type": "code",
   "execution_count": 9,
   "metadata": {},
   "outputs": [],
   "source": [
    "def vec(w): \n",
    "    return glove_matrix.loc[w].as_matrix()"
   ]
  },
  {
   "cell_type": "markdown",
   "metadata": {},
   "source": [
    "## Breve análisis exploratorio\n",
    "\n",
    "No se puede empezar a trabajar sin tener al menos una noción básica de la composición de la matriz y de las palabras con etiqueta. Por esta razón, en primer lugar cabe preguntarse cuántas palabras hay en la matriz de *embeddings*."
   ]
  },
  {
   "cell_type": "code",
   "execution_count": 10,
   "metadata": {},
   "outputs": [
    {
     "name": "stdout",
     "output_type": "stream",
     "text": [
      "1917494\n"
     ]
    }
   ],
   "source": [
    "glove_words = set(glove_matrix.index.tolist())\n",
    "print(len(glove_words))\n",
    "pickle.dump(glove_words, open(\"glove_words.pkl\", \"wb\"))"
   ]
  },
  {
   "cell_type": "markdown",
   "metadata": {},
   "source": [
    "Podría ocurrir que no todas las palabras que tenemos etiquetadas según su polaridad tengan su representación vectorial en GloVe, por lo que conviene realizar el siguiente análisis:\n",
    "Dada la unión entre las palabras de polaridad positiva y las de polaridad negativa, se revisa si están o no en la matriz. De no estar, se agregan a la lista `missing_words`, para decidir qué hacer con ellas futuramente."
   ]
  },
  {
   "cell_type": "code",
   "execution_count": 11,
   "metadata": {},
   "outputs": [
    {
     "name": "stdout",
     "output_type": "stream",
     "text": [
      "161\n"
     ]
    }
   ],
   "source": [
    "missing_words = set()\n",
    "for word in set(positive_data).union(set(negative_data)):\n",
    "    if word not in glove_words:\n",
    "        missing_words.add(word)\n",
    "print(len(missing_words))"
   ]
  },
  {
   "cell_type": "markdown",
   "metadata": {},
   "source": [
    "Es posible notar que hay 161 palabras del *opinion lexicon* para las que no se tiene una representación vectorial. Antes de decidir qué hacer con estas palabras faltantes, conviene preguntarse si existen palabras que estén etiquetadas tanto de polaridad positiva como de polaridad negativa."
   ]
  },
  {
   "cell_type": "code",
   "execution_count": 12,
   "metadata": {},
   "outputs": [
    {
     "name": "stdout",
     "output_type": "stream",
     "text": [
      "{'enviousness', 'envious', 'enviously'}\n"
     ]
    }
   ],
   "source": [
    "wrong_tag = set(positive_data).intersection(negative_data)\n",
    "print(wrong_tag)"
   ]
  },
  {
   "cell_type": "markdown",
   "metadata": {},
   "source": [
    "Así, se evidencia que tres palabras relacionadas a la envidia parecen estar mal etiquetadas, pues no deberían aparecer entre las palabras positivas."
   ]
  },
  {
   "cell_type": "markdown",
   "metadata": {},
   "source": [
    "A continuación, se procede a realizar lematización de los vocablos positivos y negativos, para ver si existe algún cambio en la cantidad palabras sin *embedding* tras este cambio."
   ]
  },
  {
   "cell_type": "code",
   "execution_count": 13,
   "metadata": {},
   "outputs": [],
   "source": [
    "positive_data_lemmatized = {nltk.stem.WordNetLemmatizer().lemmatize(word) for word in positive_data}\n",
    "negative_data_lemmatized = {nltk.stem.WordNetLemmatizer().lemmatize(word) for word in negative_data}"
   ]
  },
  {
   "cell_type": "code",
   "execution_count": 14,
   "metadata": {},
   "outputs": [
    {
     "name": "stdout",
     "output_type": "stream",
     "text": [
      "160\n"
     ]
    }
   ],
   "source": [
    "missing_words_lemmatized = set()\n",
    "for word in positive_data_lemmatized.union(set(negative_data_lemmatized)):\n",
    "    if word not in glove_words:\n",
    "        missing_words_lemmatized.add(word)\n",
    "print(len(missing_words_lemmatized))"
   ]
  },
  {
   "cell_type": "code",
   "execution_count": 15,
   "metadata": {},
   "outputs": [
    {
     "name": "stdout",
     "output_type": "stream",
     "text": [
      "{'plea', 'enviousness', 'envious', 'enviously'}\n"
     ]
    }
   ],
   "source": [
    "wrong_tag_lemmatized = set(positive_data_lemmatized).intersection(negative_data_lemmatized)\n",
    "print(wrong_tag_lemmatized)"
   ]
  },
  {
   "cell_type": "code",
   "execution_count": 16,
   "metadata": {},
   "outputs": [],
   "source": [
    "positive_data_lemmatized = positive_data_lemmatized - wrong_tag_lemmatized"
   ]
  },
  {
   "cell_type": "markdown",
   "metadata": {},
   "source": [
    "Al lematizar, es posible notar que hay una palabra menos que no tiene representación vectorial. En la siguiente celda, podrá evidenciarse qué palabra es la que hace la diferencia:"
   ]
  },
  {
   "cell_type": "code",
   "execution_count": 17,
   "metadata": {},
   "outputs": [
    {
     "name": "stdout",
     "output_type": "stream",
     "text": [
      "{'spoilages'}\n"
     ]
    }
   ],
   "source": [
    "print(missing_words - missing_words_lemmatized)"
   ]
  },
  {
   "cell_type": "markdown",
   "metadata": {},
   "source": [
    "## Preprocesamiento de los datos\n",
    "\n",
    "En las siguientes líneas, se iterará por sobre todas las palabras en los conjuntos de palabras reducidas a su lema (`positive_data_lemmatized` y `negative_data_lemmatized`), con el fin de encontrar su vector en la matriz de *embeddings* GloVe. Estos vectores se guardarán en las matrices `positive_matrix` y `negative_matrix`, que contendrán, respectivamente, las palabras de sentimiento positivo y negativo.\n",
    "\n",
    "Es importante destacar el trato que reciben las palabras para las que no se dispone una representación vectorial. Tras [investigar](https://github.com/stanfordnlp/GloVe/search?utf8=%E2%9C%93&q=unk&type=), se descubrió que GloVe incluye un vector estándar para las palabras sin *word embedding*, el que en esta tarea puede obtenerse con `vec(\"unk\")`. Así, a todas las palabras del *opinion lexicon* que no tienen *embedding* en GloVe, se les asigna el vector antes mencionado."
   ]
  },
  {
   "cell_type": "code",
   "execution_count": 18,
   "metadata": {},
   "outputs": [],
   "source": [
    "positive_matrix = np.empty((0, 300))\n",
    "positive_data_lemmatized = list(positive_data_lemmatized)\n",
    "for word in positive_data_lemmatized:\n",
    "    if word in glove_words:\n",
    "        positive_matrix = np.append(positive_matrix, [vec(word)], axis=0)\n",
    "    else:\n",
    "        positive_matrix = np.append(positive_matrix, [vec(\"unk\")], axis=0)"
   ]
  },
  {
   "cell_type": "code",
   "execution_count": 19,
   "metadata": {},
   "outputs": [],
   "source": [
    "negative_matrix = np.empty((0, 300))\n",
    "negative_data_lemmatized = list(negative_data_lemmatized)\n",
    "for word in negative_data_lemmatized:\n",
    "    if word in glove_words:\n",
    "        negative_matrix = np.append(negative_matrix, [vec(word)], axis=0)\n",
    "    else:\n",
    "        negative_matrix = np.append(negative_matrix, [vec(\"unk\")], axis=0)"
   ]
  },
  {
   "cell_type": "markdown",
   "metadata": {},
   "source": [
    "Se observa que las matrices recién formadas efectivamente contienen todas las representaciones vectoriales que corresponden:"
   ]
  },
  {
   "cell_type": "code",
   "execution_count": 20,
   "metadata": {},
   "outputs": [
    {
     "name": "stdout",
     "output_type": "stream",
     "text": [
      "1951 (1951, 300)\n",
      "4492 (4492, 300)\n"
     ]
    }
   ],
   "source": [
    "print(len(positive_data_lemmatized), positive_matrix.shape)\n",
    "print(len(negative_data_lemmatized), negative_matrix.shape)"
   ]
  },
  {
   "cell_type": "markdown",
   "metadata": {},
   "source": [
    "Se definen las etiquetas para cada ejemplo en el *data set*."
   ]
  },
  {
   "cell_type": "code",
   "execution_count": 21,
   "metadata": {},
   "outputs": [],
   "source": [
    "positive_labels = [1] * positive_matrix.shape[0]\n",
    "negative_labels = [0] * negative_matrix.shape[0]\n",
    "all_labels = positive_labels + negative_labels"
   ]
  },
  {
   "cell_type": "markdown",
   "metadata": {},
   "source": [
    "Finalmente, se concatenan las matrices `positive_matrix` y `negative_matrix`."
   ]
  },
  {
   "cell_type": "code",
   "execution_count": 22,
   "metadata": {},
   "outputs": [
    {
     "name": "stdout",
     "output_type": "stream",
     "text": [
      "(6443, 300)\n"
     ]
    }
   ],
   "source": [
    "concatenated_matrix = np.concatenate([positive_matrix, negative_matrix], axis=0)\n",
    "print(concatenated_matrix.shape)"
   ]
  },
  {
   "cell_type": "markdown",
   "metadata": {},
   "source": [
    "## Clasificación de sentimiento de palabras\n",
    "\n",
    "### Separación entre entrenamiento y *testing*\n",
    "\n",
    "Con el objeto de hacer una correcta clasificación, se separan los datos en entrenamiento y *testing*. En particular, se utiliza el 80% de los datos para entrenar los modelos y 20% para probarlos."
   ]
  },
  {
   "cell_type": "code",
   "execution_count": 23,
   "metadata": {},
   "outputs": [],
   "source": [
    "all_words = positive_data_lemmatized + negative_data_lemmatized\n",
    "X_train, X_test, y_train, y_test, words_train, words_test = train_test_split(concatenated_matrix, all_labels, all_words, test_size=0.2, random_state=0)"
   ]
  },
  {
   "cell_type": "markdown",
   "metadata": {},
   "source": [
    "### Calibración de híper-parámetros\n",
    "\n",
    "Para mejorar el desempeño de los modelos, se define la siguiente función para calibrar los híper-parámetros correspondientes. Esto se hace posible gracias a `GridSearchCV`, que recibe un modelo, los datos de entrenamiento, los híper-parámetros a testear y la cantidad de *folds* en que se separarán los datos (de acuerdo a la documentación, los datos se separán de forma que se conserven las proporciones originales de las clases). Con esta información, `GridSearchCV` probará todas las combinaciones de híper-parámetros y se realizará validación cruzada con ellas. Finalmente se retornará la combinación de híper-parámetros que haya obtenido mejor `cross_val_score`."
   ]
  },
  {
   "cell_type": "code",
   "execution_count": 24,
   "metadata": {},
   "outputs": [],
   "source": [
    "def estimator_grid_search(estimator, parameters):\n",
    "    clf = GridSearchCV(estimator=estimator, param_grid=parameters, n_jobs=-1, cv=5)\n",
    "    clf.fit(X_train, y_train)   \n",
    "    print(\"Mejor accuracy: {}\".format(clf.best_score_))\n",
    "    return clf"
   ]
  },
  {
   "cell_type": "markdown",
   "metadata": {},
   "source": [
    "### Medición del desempeño de los modelos\n",
    "\n",
    "Para evaluar los modelos, es necesario cuantificar su desempeño. Por esta razón, se define la función `get_metrics` que dado un conjunto de entrenamiento con sus respectivas etiquetas, permite obtener un diccionario con las principales métricas para tareas de clasificación."
   ]
  },
  {
   "cell_type": "code",
   "execution_count": 25,
   "metadata": {},
   "outputs": [],
   "source": [
    "def get_metrics(clf, X_test, y_test):\n",
    "    metrics = {}\n",
    "    predictions = clf.predict(X_test)\n",
    "    metrics[\"accuracy\"] = accuracy_score(y_test, predictions)\n",
    "    metrics[\"precision\"] = precision_score(y_test, predictions)\n",
    "    metrics[\"recall\"] = recall_score(y_test, predictions)\n",
    "    metrics[\"f1-score\"] = f1_score(y_test, predictions)\n",
    "    return metrics"
   ]
  },
  {
   "cell_type": "markdown",
   "metadata": {},
   "source": [
    "### Guardar modelos\n",
    "\n",
    "La función `save_model` permite guardar los clasificadores entrenados en esta tarea."
   ]
  },
  {
   "cell_type": "code",
   "execution_count": 26,
   "metadata": {},
   "outputs": [],
   "source": [
    "def save_model(clf, clf_name):\n",
    "    joblib.dump(clf, \"best_{}.pkl\".format(clf_name))"
   ]
  },
  {
   "cell_type": "markdown",
   "metadata": {},
   "source": [
    "### SVM\n",
    "\n",
    "\n",
    "El primer modelo entrenado en esta tarea corresponde a *Support Vector Machines*. Para ajustarlo, primero se realiza la calibración de híper-parámetros. Una vez encontrada la mejor combinación de ellos, se entrena el clasificador con ellos y los datos de entrenamiento. Finalmente, se obtienen las métricas antes descritas sobre el set de *testing*. Como los datos de este conjunto no han sido vistos por el modelo, puede asumirse que las métricas son una buena muestra de la calidad del clasificador."
   ]
  },
  {
   "cell_type": "code",
   "execution_count": 27,
   "metadata": {},
   "outputs": [
    {
     "name": "stdout",
     "output_type": "stream",
     "text": [
      "Mejor accuracy: 0.9433449747768723\n",
      "Mejor C: 10\n",
      "Mejor kernel: rbf\n",
      "Mejor Gamma: 0.0033333333333333335\n",
      "{'accuracy': 0.9340574088440652, 'precision': 0.898936170212766, 'recall': 0.8779220779220779, 'f1-score': 0.888304862023653}\n"
     ]
    }
   ],
   "source": [
    "svm_params = {\n",
    "    \"C\": [1, 10],\n",
    "    \"gamma\": [0.001, 0.0001, 1/300],\n",
    "    \"kernel\": [\"linear\", \"poly\", \"rbf\", \"sigmoid\"]\n",
    "}\n",
    "tuning_svm = estimator_grid_search(SVC(), svm_params)\n",
    "print(\"Mejor C: {}\".format(tuning_svm.best_estimator_.C))\n",
    "print(\"Mejor kernel: {}\".format(tuning_svm.best_estimator_.kernel))\n",
    "print(\"Mejor Gamma: {}\".format(tuning_svm.best_estimator_.gamma))\n",
    "final_svm = SVC(C=tuning_svm.best_estimator_.C, \n",
    "                kernel=tuning_svm.best_estimator_.kernel, \n",
    "                gamma=tuning_svm.best_estimator_.gamma, probability=True)\n",
    "final_svm.fit(X_train, y_train)\n",
    "svm_final_metrics = get_metrics(final_svm, X_test, y_test)\n",
    "print(svm_final_metrics)\n",
    "save_model(final_svm, \"SVM\")"
   ]
  },
  {
   "cell_type": "markdown",
   "metadata": {},
   "source": [
    "### KNN\n",
    "\n",
    "Se realizan los mismos pasos que en el caso del SVM, pero ahora para entrenar un clasificador KNN."
   ]
  },
  {
   "cell_type": "code",
   "execution_count": 28,
   "metadata": {},
   "outputs": [
    {
     "name": "stdout",
     "output_type": "stream",
     "text": [
      "Mejor accuracy: 0.913465269693442\n",
      "Mejor K: 3\n",
      "Mejor algoritmo de búsqueda de vecinos: kd_tree\n",
      "{'accuracy': 0.9185415050426687, 'precision': 0.9320987654320988, 'recall': 0.7844155844155845, 'f1-score': 0.851904090267983}\n"
     ]
    }
   ],
   "source": [
    "knn_params = {\"n_neighbors\": np.arange(5) + 1, \"algorithm\": [\"kd_tree\", \"ball_tree\"]}\n",
    "tuning_knn = estimator_grid_search(KNeighborsClassifier(), knn_params)\n",
    "print(\"Mejor K: {}\".format(tuning_knn.best_estimator_.n_neighbors)) \n",
    "print(\"Mejor algoritmo de búsqueda de vecinos: {}\".format(tuning_knn.best_estimator_.algorithm))\n",
    "final_knn = KNeighborsClassifier(n_neighbors=tuning_knn.best_estimator_.n_neighbors, \n",
    "                                 algorithm=tuning_knn.best_estimator_.algorithm)\n",
    "final_knn.fit(X_train, y_train)\n",
    "knn_final_metrics = get_metrics(final_knn, X_test, y_test)\n",
    "print(knn_final_metrics)\n",
    "save_model(final_knn, \"KNN\")"
   ]
  },
  {
   "cell_type": "markdown",
   "metadata": {},
   "source": [
    "### Random Forest\n",
    "\n",
    "Finalmente, se evaluó el desempeño de un ensamble de árboles de decisión sobre esta tarea de clasificación."
   ]
  },
  {
   "cell_type": "code",
   "execution_count": 29,
   "metadata": {},
   "outputs": [
    {
     "name": "stdout",
     "output_type": "stream",
     "text": [
      "Mejor accuracy: 0.8630190143577804\n",
      "Mejor cantidad de árboles: 9\n",
      "Mejor criterio de división: entropy\n",
      "Mejor cantidad máxima de features: None\n",
      "{'accuracy': 0.8595810705973623, 'precision': 0.8377483443708609, 'recall': 0.6571428571428571, 'f1-score': 0.7365356622998543}\n"
     ]
    }
   ],
   "source": [
    "rf_params = {\n",
    "    \"n_estimators\": np.arange(10) + 1, \n",
    "    \"criterion\": [\"gini\", \"entropy\"], \n",
    "    \"max_features\": [\"sqrt\", \"log2\", None]}\n",
    "tuning_rf = estimator_grid_search(RandomForestClassifier(), rf_params)\n",
    "print(\"Mejor cantidad de árboles: {}\".format(tuning_rf.best_estimator_.n_estimators))\n",
    "print(\"Mejor criterio de división: {}\".format(tuning_rf.best_estimator_.criterion))\n",
    "print(\"Mejor cantidad máxima de features: {}\".format(tuning_rf.best_estimator_.max_features))\n",
    "final_rf = RandomForestClassifier(n_estimators=tuning_rf.best_estimator_.n_estimators,\n",
    "                                 criterion=tuning_rf.best_estimator_.criterion,\n",
    "                                 max_features=tuning_rf.best_estimator_.max_features)\n",
    "final_rf.fit(X_train, y_train)\n",
    "rf_final_metrics = get_metrics(final_rf, X_test, y_test)\n",
    "print(rf_final_metrics)\n",
    "save_model(final_rf, \"RF\")"
   ]
  },
  {
   "cell_type": "markdown",
   "metadata": {},
   "source": [
    "En el enunciado de la tarea, se pide que los modelos tengan salida continua. Es por eso que se define la función `model_predict`, que retorna la probabilidad de pertenencia a cada una de las clases (positivo/negativo)."
   ]
  },
  {
   "cell_type": "code",
   "execution_count": 30,
   "metadata": {},
   "outputs": [],
   "source": [
    "def model_predict(clf, test_set):\n",
    "    return clf.predict_proba(test_set)"
   ]
  },
  {
   "cell_type": "markdown",
   "metadata": {},
   "source": [
    "### Comparación de clasificadores\n",
    "\n",
    "A continuación, se comparan los clasificadores según las métricas anteriormente descritas:"
   ]
  },
  {
   "cell_type": "code",
   "execution_count": 31,
   "metadata": {},
   "outputs": [
    {
     "name": "stderr",
     "output_type": "stream",
     "text": [
      "/Library/Frameworks/Python.framework/Versions/3.6/lib/python3.6/site-packages/matplotlib/cbook/deprecation.py:107: MatplotlibDeprecationWarning: Adding an axes using the same arguments as a previous axes currently reuses the earlier instance.  In a future version, a new instance will always be created and returned.  Meanwhile, this warning can be suppressed, and the future behavior ensured, by passing a unique label to each axes instance.\n",
      "  warnings.warn(message, mplDeprecation, stacklevel=1)\n"
     ]
    },
    {
     "data": {
      "text/plain": [
       "<matplotlib.legend.Legend at 0x119f9b080>"
      ]
     },
     "execution_count": 31,
     "metadata": {},
     "output_type": "execute_result"
    },
    {
     "data": {
      "image/png": "[encoded data removed]",
      "text/plain": [
       "<Figure size 432x288 with 1 Axes>"
      ]
     },
     "metadata": {},
     "output_type": "display_data"
    }
   ],
   "source": [
    "r1 = np.arange(4)\n",
    "r2 = [x + 0.25 for x in r1]\n",
    "r3 = [x + 0.25 for x in r2]\n",
    "\n",
    "labels = [k for k, v in svm_final_metrics.items()]\n",
    "svm_values = [v for k, v in svm_final_metrics.items()]\n",
    "knn_values = [v for k, v in knn_final_metrics.items()]\n",
    "rf_values = [v for k, v in rf_final_metrics.items()]\n",
    "\n",
    "plt.xticks([r + 0.25 for r in range(4)], labels)\n",
    "ax = plt.subplot(111)\n",
    "ax.bar(r1, svm_values,width=0.25,color='b', align='center')\n",
    "ax.bar(r2, knn_values, width=0.25,color='g', align='center')\n",
    "ax.bar(r3, rf_values, width=0.25, color='r', align='center')\n",
    "plt.legend([\"SVM\", \"KNN\", \"RF\"])"
   ]
  },
  {
   "cell_type": "markdown",
   "metadata": {},
   "source": [
    "Para comparar las salidas continuas con las verdaderas etiquetas de los datos, se crean los siguientes `DataFrame`:"
   ]
  },
  {
   "cell_type": "code",
   "execution_count": 32,
   "metadata": {},
   "outputs": [],
   "source": [
    "svm_df = pd.DataFrame(model_predict(final_svm,  X_test), columns=[\"negative_probability\", \"positive_probability\"])\n",
    "knn_df = pd.DataFrame(model_predict(final_knn, X_test), columns=[\"negative_probability\", \"positive_probability\"])\n",
    "rf_df = pd.DataFrame(model_predict(final_rf, X_test), columns=[\"negative_probability\", \"positive_probability\"])\n",
    "svm_df[\"word\"] = words_test\n",
    "knn_df[\"word\"] = words_test\n",
    "rf_df[\"word\"] = words_test\n",
    "svm_df[\"true_label\"] = y_test\n",
    "knn_df[\"true_label\"] = y_test\n",
    "rf_df[\"true_label\"] = y_test\n",
    "\n",
    "svm_df = svm_df[[\"word\", \"negative_probability\", \"positive_probability\", \"true_label\"]]\n",
    "knn_df = knn_df[[\"word\", \"negative_probability\", \"positive_probability\", \"true_label\"]]\n",
    "rf_df = rf_df[[\"word\", \"negative_probability\", \"positive_probability\", \"true_label\"]]"
   ]
  },
  {
   "cell_type": "code",
   "execution_count": 33,
   "metadata": {},
   "outputs": [
    {
     "data": {
      "text/html": [
       "<div>\n",
       "<style scoped>\n",
       "    .dataframe tbody tr th:only-of-type {\n",
       "        vertical-align: middle;\n",
       "    }\n",
       "\n",
       "    .dataframe tbody tr th {\n",
       "        vertical-align: top;\n",
       "    }\n",
       "\n",
       "    .dataframe thead th {\n",
       "        text-align: right;\n",
       "    }\n",
       "</style>\n",
       "<table border=\"1\" class=\"dataframe\">\n",
       "  <thead>\n",
       "    <tr style=\"text-align: right;\">\n",
       "      <th></th>\n",
       "      <th>word</th>\n",
       "      <th>negative_probability</th>\n",
       "      <th>positive_probability</th>\n",
       "      <th>true_label</th>\n",
       "    </tr>\n",
       "  </thead>\n",
       "  <tbody>\n",
       "    <tr>\n",
       "      <th>26</th>\n",
       "      <td>fanciful</td>\n",
       "      <td>0.738302</td>\n",
       "      <td>0.261698</td>\n",
       "      <td>0</td>\n",
       "    </tr>\n",
       "    <tr>\n",
       "      <th>227</th>\n",
       "      <td>affection</td>\n",
       "      <td>0.003281</td>\n",
       "      <td>0.996719</td>\n",
       "      <td>1</td>\n",
       "    </tr>\n",
       "    <tr>\n",
       "      <th>361</th>\n",
       "      <td>surpass</td>\n",
       "      <td>0.006464</td>\n",
       "      <td>0.993536</td>\n",
       "      <td>1</td>\n",
       "    </tr>\n",
       "    <tr>\n",
       "      <th>672</th>\n",
       "      <td>infuriated</td>\n",
       "      <td>0.997935</td>\n",
       "      <td>0.002065</td>\n",
       "      <td>0</td>\n",
       "    </tr>\n",
       "    <tr>\n",
       "      <th>1162</th>\n",
       "      <td>advantageous</td>\n",
       "      <td>0.002668</td>\n",
       "      <td>0.997332</td>\n",
       "      <td>1</td>\n",
       "    </tr>\n",
       "  </tbody>\n",
       "</table>\n",
       "</div>"
      ],
      "text/plain": [
       "              word  negative_probability  positive_probability  true_label\n",
       "26        fanciful              0.738302              0.261698           0\n",
       "227      affection              0.003281              0.996719           1\n",
       "361        surpass              0.006464              0.993536           1\n",
       "672     infuriated              0.997935              0.002065           0\n",
       "1162  advantageous              0.002668              0.997332           1"
      ]
     },
     "metadata": {},
     "output_type": "display_data"
    },
    {
     "data": {
      "text/html": [
       "<div>\n",
       "<style scoped>\n",
       "    .dataframe tbody tr th:only-of-type {\n",
       "        vertical-align: middle;\n",
       "    }\n",
       "\n",
       "    .dataframe tbody tr th {\n",
       "        vertical-align: top;\n",
       "    }\n",
       "\n",
       "    .dataframe thead th {\n",
       "        text-align: right;\n",
       "    }\n",
       "</style>\n",
       "<table border=\"1\" class=\"dataframe\">\n",
       "  <thead>\n",
       "    <tr style=\"text-align: right;\">\n",
       "      <th></th>\n",
       "      <th>word</th>\n",
       "      <th>negative_probability</th>\n",
       "      <th>positive_probability</th>\n",
       "      <th>true_label</th>\n",
       "    </tr>\n",
       "  </thead>\n",
       "  <tbody>\n",
       "    <tr>\n",
       "      <th>26</th>\n",
       "      <td>fanciful</td>\n",
       "      <td>0.666667</td>\n",
       "      <td>0.333333</td>\n",
       "      <td>0</td>\n",
       "    </tr>\n",
       "    <tr>\n",
       "      <th>227</th>\n",
       "      <td>affection</td>\n",
       "      <td>0.333333</td>\n",
       "      <td>0.666667</td>\n",
       "      <td>1</td>\n",
       "    </tr>\n",
       "    <tr>\n",
       "      <th>361</th>\n",
       "      <td>surpass</td>\n",
       "      <td>0.000000</td>\n",
       "      <td>1.000000</td>\n",
       "      <td>1</td>\n",
       "    </tr>\n",
       "    <tr>\n",
       "      <th>672</th>\n",
       "      <td>infuriated</td>\n",
       "      <td>1.000000</td>\n",
       "      <td>0.000000</td>\n",
       "      <td>0</td>\n",
       "    </tr>\n",
       "    <tr>\n",
       "      <th>1162</th>\n",
       "      <td>advantageous</td>\n",
       "      <td>0.333333</td>\n",
       "      <td>0.666667</td>\n",
       "      <td>1</td>\n",
       "    </tr>\n",
       "  </tbody>\n",
       "</table>\n",
       "</div>"
      ],
      "text/plain": [
       "              word  negative_probability  positive_probability  true_label\n",
       "26        fanciful              0.666667              0.333333           0\n",
       "227      affection              0.333333              0.666667           1\n",
       "361        surpass              0.000000              1.000000           1\n",
       "672     infuriated              1.000000              0.000000           0\n",
       "1162  advantageous              0.333333              0.666667           1"
      ]
     },
     "metadata": {},
     "output_type": "display_data"
    },
    {
     "data": {
      "text/html": [
       "<div>\n",
       "<style scoped>\n",
       "    .dataframe tbody tr th:only-of-type {\n",
       "        vertical-align: middle;\n",
       "    }\n",
       "\n",
       "    .dataframe tbody tr th {\n",
       "        vertical-align: top;\n",
       "    }\n",
       "\n",
       "    .dataframe thead th {\n",
       "        text-align: right;\n",
       "    }\n",
       "</style>\n",
       "<table border=\"1\" class=\"dataframe\">\n",
       "  <thead>\n",
       "    <tr style=\"text-align: right;\">\n",
       "      <th></th>\n",
       "      <th>word</th>\n",
       "      <th>negative_probability</th>\n",
       "      <th>positive_probability</th>\n",
       "      <th>true_label</th>\n",
       "    </tr>\n",
       "  </thead>\n",
       "  <tbody>\n",
       "    <tr>\n",
       "      <th>26</th>\n",
       "      <td>fanciful</td>\n",
       "      <td>0.777778</td>\n",
       "      <td>0.222222</td>\n",
       "      <td>0</td>\n",
       "    </tr>\n",
       "    <tr>\n",
       "      <th>227</th>\n",
       "      <td>affection</td>\n",
       "      <td>0.666667</td>\n",
       "      <td>0.333333</td>\n",
       "      <td>1</td>\n",
       "    </tr>\n",
       "    <tr>\n",
       "      <th>361</th>\n",
       "      <td>surpass</td>\n",
       "      <td>0.444444</td>\n",
       "      <td>0.555556</td>\n",
       "      <td>1</td>\n",
       "    </tr>\n",
       "    <tr>\n",
       "      <th>672</th>\n",
       "      <td>infuriated</td>\n",
       "      <td>0.888889</td>\n",
       "      <td>0.111111</td>\n",
       "      <td>0</td>\n",
       "    </tr>\n",
       "    <tr>\n",
       "      <th>1162</th>\n",
       "      <td>advantageous</td>\n",
       "      <td>0.111111</td>\n",
       "      <td>0.888889</td>\n",
       "      <td>1</td>\n",
       "    </tr>\n",
       "  </tbody>\n",
       "</table>\n",
       "</div>"
      ],
      "text/plain": [
       "              word  negative_probability  positive_probability  true_label\n",
       "26        fanciful              0.777778              0.222222           0\n",
       "227      affection              0.666667              0.333333           1\n",
       "361        surpass              0.444444              0.555556           1\n",
       "672     infuriated              0.888889              0.111111           0\n",
       "1162  advantageous              0.111111              0.888889           1"
      ]
     },
     "metadata": {},
     "output_type": "display_data"
    }
   ],
   "source": [
    "random_words = svm_df.sample(5)[\"word\"].tolist()\n",
    "\n",
    "display(svm_df[svm_df[\"word\"].isin(random_words)])\n",
    "display(knn_df[knn_df[\"word\"].isin(random_words)])\n",
    "display(rf_df[rf_df[\"word\"].isin(random_words)])"
   ]
  },
  {
   "cell_type": "markdown",
   "metadata": {},
   "source": [
    "## Predicción de sentimiento deoraciones\n",
    "\n",
    "En esta sección se detalla lo necesario para extender el poder de los modelos a la clasificación de oraciones de largo arbitrario.\n",
    "### Preprocesamiento de las oraciones\n",
    "\n",
    "Con el fin de eliminar las partes de las oraciones que no aportan demasiado a su significado, se realiza lo siguiente dentro de la función `tokenize_lemmatize`:\n",
    "- Se convierte la oración recibida a minúsculas.\n",
    "- Se eliminan los caracteres que no corresponden a letras (signos de puntuación y números).\n",
    "- Se separa la oración en *tokens*.\n",
    "- Se remueven las *stopwords*, palabras comunes que no contribuyen al significado de una oración.\n",
    "- Lematización, tal como se explicó en una sección anterior."
   ]
  },
  {
   "cell_type": "code",
   "execution_count": 34,
   "metadata": {},
   "outputs": [],
   "source": [
    "def tokenize_lemmatize(sentence):\n",
    "    sentence = sentence.lower()\n",
    "    words_sentence = ''.join([c for c in sentence if c not in NON_WORDS])\n",
    "    tokenized_sentence = word_tokenize(words_sentence)\n",
    "    removed_stopwords = [word for word in tokenized_sentence if word not in ENGLISH_STOPWORDS]\n",
    "    lemmatized_sentence = [nltk.stem.WordNetLemmatizer().lemmatize(word) for word in removed_stopwords]\n",
    "    return tokenized_sentence"
   ]
  },
  {
   "cell_type": "markdown",
   "metadata": {},
   "source": [
    "La obtención de la representación vectorial es similar a la utilizada para las palabras. En el caso de las oraciones, se obtiene el vector de cada palabra en la oración y se guarda en `sentence_matrix`. De no contar con el *embedding*, se utiliza el vector de \"unk\". Posteriormente, se promedian todas las coordenadas de los vectores en `sentence_matrix` y se guarda en `mean_sentence_vector`. Este será el vector que represente a una oración."
   ]
  },
  {
   "cell_type": "code",
   "execution_count": 35,
   "metadata": {},
   "outputs": [],
   "source": [
    "def vectorize_sentence(sentence):\n",
    "    sentence_matrix = np.empty((0, 300))\n",
    "    for word in sentence:\n",
    "        if word in glove_words:\n",
    "            sentence_matrix = np.append(sentence_matrix, [vec(word)], axis=0)\n",
    "        else:\n",
    "            sentence_matrix = np.append(sentence_matrix, [vec(\"unk\")], axis=0)\n",
    "    mean_sentence_vector = sentence_matrix.mean(0)\n",
    "    if np.isnan(np.sum(mean_sentence_vector)):\n",
    "        mean_sentence_vector = vec(\"unk\")\n",
    "    return mean_sentence_vector"
   ]
  },
  {
   "cell_type": "markdown",
   "metadata": {},
   "source": [
    "La siguiente función ejecuta las dos funciones anteriores y retorna la representación vectorial de la oración entregada."
   ]
  },
  {
   "cell_type": "code",
   "execution_count": 36,
   "metadata": {},
   "outputs": [],
   "source": [
    "def prepare_sentence(sentence):\n",
    "    tokenized = tokenize_lemmatize(sentence)\n",
    "    vectorized = vectorize_sentence(tokenized)\n",
    "    return vectorized"
   ]
  },
  {
   "cell_type": "markdown",
   "metadata": {},
   "source": [
    "### Evaluación de los modelos sobre frases reales\n",
    "\n",
    "Para evaluar el desempeño del modelo, se utiliza el *data set* [Sentiment Labelled Sentences](https://archive.ics.uci.edu/ml/datasets/Sentiment+Labelled+Sentences). Las siguientes líneas cargan y pre-procesan estos nuevos datos."
   ]
  },
  {
   "cell_type": "code",
   "execution_count": 37,
   "metadata": {},
   "outputs": [],
   "source": [
    "amazon = pd.read_csv(\"amazon_cells_labelled.txt\", sep=\"\\t\", names=[\"sentence\", \"polarity\"])\n",
    "imdb = pd.read_csv(\"imdb_labelled.txt\", sep=\"\\t\", names=[\"sentence\", \"polarity\"])\n",
    "yelp = pd.read_csv(\"yelp_labelled.txt\", sep=\"\\t\", names=[\"sentence\", \"polarity\"])"
   ]
  },
  {
   "cell_type": "code",
   "execution_count": 38,
   "metadata": {},
   "outputs": [
    {
     "data": {
      "text/html": [
       "<div>\n",
       "<style scoped>\n",
       "    .dataframe tbody tr th:only-of-type {\n",
       "        vertical-align: middle;\n",
       "    }\n",
       "\n",
       "    .dataframe tbody tr th {\n",
       "        vertical-align: top;\n",
       "    }\n",
       "\n",
       "    .dataframe thead th {\n",
       "        text-align: right;\n",
       "    }\n",
       "</style>\n",
       "<table border=\"1\" class=\"dataframe\">\n",
       "  <thead>\n",
       "    <tr style=\"text-align: right;\">\n",
       "      <th></th>\n",
       "      <th>sentence</th>\n",
       "      <th>polarity</th>\n",
       "    </tr>\n",
       "  </thead>\n",
       "  <tbody>\n",
       "    <tr>\n",
       "      <th>0</th>\n",
       "      <td>So there is no way for me to plug it in here i...</td>\n",
       "      <td>0</td>\n",
       "    </tr>\n",
       "    <tr>\n",
       "      <th>1</th>\n",
       "      <td>Good case, Excellent value.</td>\n",
       "      <td>1</td>\n",
       "    </tr>\n",
       "    <tr>\n",
       "      <th>2</th>\n",
       "      <td>Great for the jawbone.</td>\n",
       "      <td>1</td>\n",
       "    </tr>\n",
       "    <tr>\n",
       "      <th>3</th>\n",
       "      <td>Tied to charger for conversations lasting more...</td>\n",
       "      <td>0</td>\n",
       "    </tr>\n",
       "    <tr>\n",
       "      <th>4</th>\n",
       "      <td>The mic is great.</td>\n",
       "      <td>1</td>\n",
       "    </tr>\n",
       "  </tbody>\n",
       "</table>\n",
       "</div>"
      ],
      "text/plain": [
       "                                            sentence  polarity\n",
       "0  So there is no way for me to plug it in here i...         0\n",
       "1                        Good case, Excellent value.         1\n",
       "2                             Great for the jawbone.         1\n",
       "3  Tied to charger for conversations lasting more...         0\n",
       "4                                  The mic is great.         1"
      ]
     },
     "execution_count": 38,
     "metadata": {},
     "output_type": "execute_result"
    }
   ],
   "source": [
    "all_sentences = pd.concat([amazon, imdb, yelp])\n",
    "all_sentences.head()"
   ]
  },
  {
   "cell_type": "code",
   "execution_count": 39,
   "metadata": {},
   "outputs": [],
   "source": [
    "X_sentence_test = all_sentences[\"sentence\"].tolist()\n",
    "y_sentence_test = all_sentences[\"polarity\"]"
   ]
  },
  {
   "cell_type": "code",
   "execution_count": 40,
   "metadata": {},
   "outputs": [
    {
     "name": "stderr",
     "output_type": "stream",
     "text": [
      "/Library/Frameworks/Python.framework/Versions/3.6/lib/python3.6/site-packages/ipykernel_launcher.py:8: RuntimeWarning: Mean of empty slice.\n",
      "  \n",
      "/Library/Frameworks/Python.framework/Versions/3.6/lib/python3.6/site-packages/numpy/core/_methods.py:73: RuntimeWarning: invalid value encountered in true_divide\n",
      "  ret, rcount, out=ret, casting='unsafe', subok=False)\n"
     ]
    }
   ],
   "source": [
    "vectorized_sentences = list(map(prepare_sentence, X_sentence_test))"
   ]
  },
  {
   "cell_type": "markdown",
   "metadata": {},
   "source": [
    "Lo anterior permite obtener las siguientes métricas: "
   ]
  },
  {
   "cell_type": "code",
   "execution_count": 41,
   "metadata": {},
   "outputs": [
    {
     "name": "stdout",
     "output_type": "stream",
     "text": [
      "{'accuracy': 0.5873362445414847, 'precision': 0.5508064516129032, 'recall': 0.9855699855699855, 'f1-score': 0.7066735644076565}\n",
      "{'accuracy': 0.5931586608442504, 'precision': 0.5655577299412916, 'recall': 0.834054834054834, 'f1-score': 0.6740524781341108}\n",
      "{'accuracy': 0.6419213973799127, 'precision': 0.599308300395257, 'recall': 0.8751803751803752, 'f1-score': 0.7114369501466276}\n"
     ]
    }
   ],
   "source": [
    "print(get_metrics(final_svm, vectorized_sentences, y_sentence_test))\n",
    "print(get_metrics(final_knn, vectorized_sentences, y_sentence_test))\n",
    "print(get_metrics(final_rf, vectorized_sentences, y_sentence_test))"
   ]
  },
  {
   "cell_type": "markdown",
   "metadata": {},
   "source": [
    "## Reentrenamiento de los modelos\n",
    "\n",
    "Se observa que el desempeño no es tan bueno como el que se tiene para la predicción de sentimiento de palabras. Por esta razón, se reentrenan los modelos anteriores con los datos para palabras y el 80% de los nuevos datos."
   ]
  },
  {
   "cell_type": "code",
   "execution_count": 42,
   "metadata": {},
   "outputs": [],
   "source": [
    "new_concatenated_matrix = np.concatenate([positive_matrix, negative_matrix, vectorized_sentences], axis=0)\n",
    "new_all_labels = positive_labels + negative_labels + y_sentence_test.tolist()"
   ]
  },
  {
   "cell_type": "code",
   "execution_count": 43,
   "metadata": {},
   "outputs": [],
   "source": [
    "words_and_sentences = all_words + X_sentence_test\n",
    "new_X_train, new_X_test, new_y_train, new_y_test, new_words_train, new_words_test  = train_test_split(new_concatenated_matrix, new_all_labels, words_and_sentences, test_size=0.2, random_state=0)"
   ]
  },
  {
   "cell_type": "code",
   "execution_count": 44,
   "metadata": {},
   "outputs": [],
   "source": [
    "new_svm = SVC(C=tuning_svm.best_estimator_.C, \n",
    "                kernel=tuning_svm.best_estimator_.kernel, \n",
    "                gamma=tuning_svm.best_estimator_.gamma, probability=True)\n",
    "new_knn = KNeighborsClassifier(n_neighbors=tuning_knn.best_estimator_.n_neighbors, \n",
    "                                 algorithm=tuning_knn.best_estimator_.algorithm)\n",
    "new_rf = RandomForestClassifier(n_estimators=tuning_rf.best_estimator_.n_estimators,\n",
    "                                 criterion=tuning_rf.best_estimator_.criterion,\n",
    "                                 max_features=tuning_rf.best_estimator_.max_features)"
   ]
  },
  {
   "cell_type": "code",
   "execution_count": 45,
   "metadata": {},
   "outputs": [
    {
     "data": {
      "text/plain": [
       "RandomForestClassifier(bootstrap=True, class_weight=None, criterion='entropy',\n",
       "            max_depth=None, max_features=None, max_leaf_nodes=None,\n",
       "            min_impurity_decrease=0.0, min_impurity_split=None,\n",
       "            min_samples_leaf=1, min_samples_split=2,\n",
       "            min_weight_fraction_leaf=0.0, n_estimators=9, n_jobs=1,\n",
       "            oob_score=False, random_state=None, verbose=0,\n",
       "            warm_start=False)"
      ]
     },
     "execution_count": 45,
     "metadata": {},
     "output_type": "execute_result"
    }
   ],
   "source": [
    "new_svm.fit(new_X_train, new_y_train)\n",
    "new_knn.fit(new_X_train, new_y_train)\n",
    "new_rf.fit(new_X_train, new_y_train)"
   ]
  },
  {
   "cell_type": "markdown",
   "metadata": {},
   "source": [
    "Así, se obtienen las siguientes métricas."
   ]
  },
  {
   "cell_type": "code",
   "execution_count": 46,
   "metadata": {},
   "outputs": [
    {
     "name": "stdout",
     "output_type": "stream",
     "text": [
      "{'accuracy': 0.9216965742251223, 'precision': 0.9053627760252366, 'recall': 0.8723404255319149, 'f1-score': 0.8885448916408669}\n",
      "{'accuracy': 0.8292550299075585, 'precision': 0.7876254180602007, 'recall': 0.71580547112462, 'f1-score': 0.75}\n",
      "{'accuracy': 0.8314301250679718, 'precision': 0.797945205479452, 'recall': 0.7082066869300911, 'f1-score': 0.750402576489533}\n"
     ]
    }
   ],
   "source": [
    "new_svm_metrics = get_metrics(new_svm, new_X_test, new_y_test)\n",
    "new_knn_metrics = get_metrics(new_knn, new_X_test, new_y_test)\n",
    "new_rf_metrics = get_metrics(new_rf, new_X_test, new_y_test)\n",
    "print(new_svm_metrics)\n",
    "print(new_knn_metrics)\n",
    "print(new_rf_metrics)"
   ]
  },
  {
   "cell_type": "code",
   "execution_count": 47,
   "metadata": {},
   "outputs": [
    {
     "name": "stderr",
     "output_type": "stream",
     "text": [
      "/Library/Frameworks/Python.framework/Versions/3.6/lib/python3.6/site-packages/matplotlib/cbook/deprecation.py:107: MatplotlibDeprecationWarning: Adding an axes using the same arguments as a previous axes currently reuses the earlier instance.  In a future version, a new instance will always be created and returned.  Meanwhile, this warning can be suppressed, and the future behavior ensured, by passing a unique label to each axes instance.\n",
      "  warnings.warn(message, mplDeprecation, stacklevel=1)\n"
     ]
    },
    {
     "data": {
      "text/plain": [
       "Text(0.5,1,'Comparación de modelos según distintas métricas')"
      ]
     },
     "execution_count": 47,
     "metadata": {},
     "output_type": "execute_result"
    },
    {
     "data": {
      "image/png": "[encoded data removed]",
      "text/plain": [
       "<Figure size 432x288 with 1 Axes>"
      ]
     },
     "metadata": {},
     "output_type": "display_data"
    }
   ],
   "source": [
    "r1 = np.arange(4)\n",
    "r2 = [x + 0.25 for x in r1]\n",
    "r3 = [x + 0.25 for x in r2]\n",
    "\n",
    "labels = [k for k, v in new_svm_metrics.items()]\n",
    "svm_values = [v for k, v in new_svm_metrics.items()]\n",
    "knn_values = [v for k, v in new_knn_metrics.items()]\n",
    "rf_values = [v for k, v in new_rf_metrics.items()]\n",
    "plt.xticks([r + 0.25 for r in range(4)], labels)\n",
    "ax = plt.subplot(111)\n",
    "ax.bar(r1, svm_values,width=0.25,color='b', align='center')\n",
    "ax.bar(r2, knn_values, width=0.25,color='g', align='center')\n",
    "ax.bar(r3, rf_values, width=0.25, color='r', align='center')\n",
    "plt.legend([\"SVM\", \"KNN\", \"RF\"])\n",
    "plt.title(\"Comparación de modelos según distintas métricas\")"
   ]
  },
  {
   "cell_type": "markdown",
   "metadata": {},
   "source": [
    "Los siguientes `DataFrames` permiten visualizar las salidas continuas y la verdadera etiqueta de los datos de *testing*."
   ]
  },
  {
   "cell_type": "code",
   "execution_count": 48,
   "metadata": {},
   "outputs": [],
   "source": [
    "new_svm_df = pd.DataFrame(model_predict(new_svm,  new_X_test), columns=[\"negative_probability\", \"positive_probability\"])\n",
    "new_knn_df = pd.DataFrame(model_predict(new_knn, new_X_test), columns=[\"negative_probability\", \"positive_probability\"])\n",
    "new_rf_df = pd.DataFrame(model_predict(new_rf, new_X_test), columns=[\"negative_probability\", \"positive_probability\"])\n",
    "new_svm_df[\"word_sentence\"] = new_words_test\n",
    "new_knn_df[\"word_sentence\"] = new_words_test\n",
    "new_rf_df[\"word_sentence\"] = new_words_test\n",
    "new_svm_df[\"true_label\"] = new_y_test\n",
    "new_knn_df[\"true_label\"] = new_y_test\n",
    "new_rf_df[\"true_label\"] = new_y_test\n",
    "new_svm_df = new_svm_df[[\"word_sentence\", \"negative_probability\", \"positive_probability\", \"true_label\"]]\n",
    "new_knn_df = new_knn_df[[\"word_sentence\", \"negative_probability\", \"positive_probability\", \"true_label\"]]\n",
    "new_rf_df = new_rf_df[[\"word_sentence\", \"negative_probability\", \"positive_probability\", \"true_label\"]]"
   ]
  },
  {
   "cell_type": "code",
   "execution_count": 81,
   "metadata": {},
   "outputs": [
    {
     "data": {
      "text/html": [
       "<div>\n",
       "<style scoped>\n",
       "    .dataframe tbody tr th:only-of-type {\n",
       "        vertical-align: middle;\n",
       "    }\n",
       "\n",
       "    .dataframe tbody tr th {\n",
       "        vertical-align: top;\n",
       "    }\n",
       "\n",
       "    .dataframe thead th {\n",
       "        text-align: right;\n",
       "    }\n",
       "</style>\n",
       "<table border=\"1\" class=\"dataframe\">\n",
       "  <thead>\n",
       "    <tr style=\"text-align: right;\">\n",
       "      <th></th>\n",
       "      <th>word_sentence</th>\n",
       "      <th>negative_probability</th>\n",
       "      <th>positive_probability</th>\n",
       "      <th>true_label</th>\n",
       "    </tr>\n",
       "  </thead>\n",
       "  <tbody>\n",
       "    <tr>\n",
       "      <th>594</th>\n",
       "      <td>reputable</td>\n",
       "      <td>8.180741e-06</td>\n",
       "      <td>0.999992</td>\n",
       "      <td>1</td>\n",
       "    </tr>\n",
       "    <tr>\n",
       "      <th>710</th>\n",
       "      <td>Obviously there is a problem with the adhesive.</td>\n",
       "      <td>8.538346e-01</td>\n",
       "      <td>0.146165</td>\n",
       "      <td>0</td>\n",
       "    </tr>\n",
       "    <tr>\n",
       "      <th>820</th>\n",
       "      <td>responsive</td>\n",
       "      <td>1.449234e-08</td>\n",
       "      <td>1.000000</td>\n",
       "      <td>1</td>\n",
       "    </tr>\n",
       "    <tr>\n",
       "      <th>936</th>\n",
       "      <td>desolately</td>\n",
       "      <td>4.773357e-01</td>\n",
       "      <td>0.522664</td>\n",
       "      <td>0</td>\n",
       "    </tr>\n",
       "    <tr>\n",
       "      <th>1582</th>\n",
       "      <td>fatuous</td>\n",
       "      <td>9.989949e-01</td>\n",
       "      <td>0.001005</td>\n",
       "      <td>0</td>\n",
       "    </tr>\n",
       "  </tbody>\n",
       "</table>\n",
       "</div>"
      ],
      "text/plain": [
       "                                        word_sentence  negative_probability  \\\n",
       "594                                         reputable          8.180741e-06   \n",
       "710   Obviously there is a problem with the adhesive.          8.538346e-01   \n",
       "820                                        responsive          1.449234e-08   \n",
       "936                                        desolately          4.773357e-01   \n",
       "1582                                          fatuous          9.989949e-01   \n",
       "\n",
       "      positive_probability  true_label  \n",
       "594               0.999992           1  \n",
       "710               0.146165           0  \n",
       "820               1.000000           1  \n",
       "936               0.522664           0  \n",
       "1582              0.001005           0  "
      ]
     },
     "metadata": {},
     "output_type": "display_data"
    },
    {
     "data": {
      "text/html": [
       "<div>\n",
       "<style scoped>\n",
       "    .dataframe tbody tr th:only-of-type {\n",
       "        vertical-align: middle;\n",
       "    }\n",
       "\n",
       "    .dataframe tbody tr th {\n",
       "        vertical-align: top;\n",
       "    }\n",
       "\n",
       "    .dataframe thead th {\n",
       "        text-align: right;\n",
       "    }\n",
       "</style>\n",
       "<table border=\"1\" class=\"dataframe\">\n",
       "  <thead>\n",
       "    <tr style=\"text-align: right;\">\n",
       "      <th></th>\n",
       "      <th>word_sentence</th>\n",
       "      <th>negative_probability</th>\n",
       "      <th>positive_probability</th>\n",
       "      <th>true_label</th>\n",
       "    </tr>\n",
       "  </thead>\n",
       "  <tbody>\n",
       "    <tr>\n",
       "      <th>594</th>\n",
       "      <td>reputable</td>\n",
       "      <td>0.000000</td>\n",
       "      <td>1.000000</td>\n",
       "      <td>1</td>\n",
       "    </tr>\n",
       "    <tr>\n",
       "      <th>710</th>\n",
       "      <td>Obviously there is a problem with the adhesive.</td>\n",
       "      <td>1.000000</td>\n",
       "      <td>0.000000</td>\n",
       "      <td>0</td>\n",
       "    </tr>\n",
       "    <tr>\n",
       "      <th>820</th>\n",
       "      <td>responsive</td>\n",
       "      <td>0.333333</td>\n",
       "      <td>0.666667</td>\n",
       "      <td>1</td>\n",
       "    </tr>\n",
       "    <tr>\n",
       "      <th>936</th>\n",
       "      <td>desolately</td>\n",
       "      <td>0.666667</td>\n",
       "      <td>0.333333</td>\n",
       "      <td>0</td>\n",
       "    </tr>\n",
       "    <tr>\n",
       "      <th>1582</th>\n",
       "      <td>fatuous</td>\n",
       "      <td>1.000000</td>\n",
       "      <td>0.000000</td>\n",
       "      <td>0</td>\n",
       "    </tr>\n",
       "  </tbody>\n",
       "</table>\n",
       "</div>"
      ],
      "text/plain": [
       "                                        word_sentence  negative_probability  \\\n",
       "594                                         reputable              0.000000   \n",
       "710   Obviously there is a problem with the adhesive.              1.000000   \n",
       "820                                        responsive              0.333333   \n",
       "936                                        desolately              0.666667   \n",
       "1582                                          fatuous              1.000000   \n",
       "\n",
       "      positive_probability  true_label  \n",
       "594               1.000000           1  \n",
       "710               0.000000           0  \n",
       "820               0.666667           1  \n",
       "936               0.333333           0  \n",
       "1582              0.000000           0  "
      ]
     },
     "metadata": {},
     "output_type": "display_data"
    },
    {
     "data": {
      "text/html": [
       "<div>\n",
       "<style scoped>\n",
       "    .dataframe tbody tr th:only-of-type {\n",
       "        vertical-align: middle;\n",
       "    }\n",
       "\n",
       "    .dataframe tbody tr th {\n",
       "        vertical-align: top;\n",
       "    }\n",
       "\n",
       "    .dataframe thead th {\n",
       "        text-align: right;\n",
       "    }\n",
       "</style>\n",
       "<table border=\"1\" class=\"dataframe\">\n",
       "  <thead>\n",
       "    <tr style=\"text-align: right;\">\n",
       "      <th></th>\n",
       "      <th>word_sentence</th>\n",
       "      <th>negative_probability</th>\n",
       "      <th>positive_probability</th>\n",
       "      <th>true_label</th>\n",
       "    </tr>\n",
       "  </thead>\n",
       "  <tbody>\n",
       "    <tr>\n",
       "      <th>594</th>\n",
       "      <td>reputable</td>\n",
       "      <td>0.222222</td>\n",
       "      <td>0.777778</td>\n",
       "      <td>1</td>\n",
       "    </tr>\n",
       "    <tr>\n",
       "      <th>710</th>\n",
       "      <td>Obviously there is a problem with the adhesive.</td>\n",
       "      <td>0.777778</td>\n",
       "      <td>0.222222</td>\n",
       "      <td>0</td>\n",
       "    </tr>\n",
       "    <tr>\n",
       "      <th>820</th>\n",
       "      <td>responsive</td>\n",
       "      <td>0.222222</td>\n",
       "      <td>0.777778</td>\n",
       "      <td>1</td>\n",
       "    </tr>\n",
       "    <tr>\n",
       "      <th>936</th>\n",
       "      <td>desolately</td>\n",
       "      <td>0.888889</td>\n",
       "      <td>0.111111</td>\n",
       "      <td>0</td>\n",
       "    </tr>\n",
       "    <tr>\n",
       "      <th>1582</th>\n",
       "      <td>fatuous</td>\n",
       "      <td>0.888889</td>\n",
       "      <td>0.111111</td>\n",
       "      <td>0</td>\n",
       "    </tr>\n",
       "  </tbody>\n",
       "</table>\n",
       "</div>"
      ],
      "text/plain": [
       "                                        word_sentence  negative_probability  \\\n",
       "594                                         reputable              0.222222   \n",
       "710   Obviously there is a problem with the adhesive.              0.777778   \n",
       "820                                        responsive              0.222222   \n",
       "936                                        desolately              0.888889   \n",
       "1582                                          fatuous              0.888889   \n",
       "\n",
       "      positive_probability  true_label  \n",
       "594               0.777778           1  \n",
       "710               0.222222           0  \n",
       "820               0.777778           1  \n",
       "936               0.111111           0  \n",
       "1582              0.111111           0  "
      ]
     },
     "metadata": {},
     "output_type": "display_data"
    }
   ],
   "source": [
    "random_words_sentences = new_svm_df.sample(5)[\"word_sentence\"].tolist()\n",
    "\n",
    "display(new_svm_df[new_svm_df[\"word_sentence\"].isin(random_words_sentences)])\n",
    "display(new_knn_df[new_knn_df[\"word_sentence\"].isin(random_words_sentences)])\n",
    "display(new_rf_df[new_rf_df[\"word_sentence\"].isin(random_words_sentences)])"
   ]
  },
  {
   "cell_type": "markdown",
   "metadata": {},
   "source": [
    "Finalmente, se serializan los modelos para referencias futuras."
   ]
  },
  {
   "cell_type": "code",
   "execution_count": 50,
   "metadata": {},
   "outputs": [],
   "source": [
    "save_model(new_svm, \"sentences_SVM\")\n",
    "save_model(new_knn, \"sentences_KNN\")\n",
    "save_model(new_rf, \"sentences_RF\")"
   ]
  },
  {
   "cell_type": "markdown",
   "metadata": {},
   "source": [
    "## Evaluación y caracterización de prejuicios"
   ]
  },
  {
   "cell_type": "code",
   "execution_count": 51,
   "metadata": {},
   "outputs": [],
   "source": [
    "def get_continent_countries(continent):\n",
    "    return [country[\"name\"] for country in countries if continent in country[\"continent\"]]\n",
    "\n",
    "def get_continent_demonyms(demonyms, continent_countries):\n",
    "    return demonyms[demonyms[\"place\"].isin(continent_countries)][\"demonym\"].tolist()"
   ]
  },
  {
   "cell_type": "code",
   "execution_count": 52,
   "metadata": {},
   "outputs": [],
   "source": [
    "american_countries = get_continent_countries(\"America\")\n",
    "european_countries = get_continent_countries(\"Europe\")\n",
    "african_countries = get_continent_countries(\"Africa\")\n",
    "asian_countries = get_continent_countries(\"Asia\")\n",
    "oceanian_countries = get_continent_countries(\"Oceania\")"
   ]
  },
  {
   "cell_type": "code",
   "execution_count": 53,
   "metadata": {},
   "outputs": [],
   "source": [
    "test_svm = joblib.load(\"best_sentences_SVM.pkl\") "
   ]
  },
  {
   "cell_type": "markdown",
   "metadata": {},
   "source": [
    "https://gist.github.com/pamelafox/986163\n",
    "https://github.com/knowitall/chunkedextractor/blob/master/src/main/resources/edu/knowitall/chunkedextractor/demonyms.csv"
   ]
  },
  {
   "cell_type": "code",
   "execution_count": 54,
   "metadata": {},
   "outputs": [],
   "source": [
    "demonyms = pd.read_csv(\"demonyms.csv\", header=None)\n",
    "demonyms.columns = [\"demonym\", \"place\"]\n",
    "american_demonyms = get_continent_demonyms(demonyms, american_countries)\n",
    "european_demonyms = get_continent_demonyms(demonyms, european_countries)\n",
    "african_demonyms = get_continent_demonyms(demonyms, african_countries)\n",
    "asian_demonyms = get_continent_demonyms(demonyms, asian_countries)\n",
    "oceanian_demonyms = get_continent_demonyms(demonyms, oceanian_countries)"
   ]
  },
  {
   "cell_type": "code",
   "execution_count": 66,
   "metadata": {},
   "outputs": [],
   "source": [
    "def generate_sentence(country_attribute, sentence, continent_demonyms, continent_countries):\n",
    "    if country_attribute not in countries[0].keys():\n",
    "        return list({sentence.format(demonym) for demonym in continent_demonyms})\n",
    "    else:\n",
    "        return list({sentence.format(country) for country in continent_countries})"
   ]
  },
  {
   "cell_type": "code",
   "execution_count": 56,
   "metadata": {},
   "outputs": [],
   "source": [
    "american_food_sentence = generate_sentence(\"demonym\", \"Let's go get {} food\", american_demonyms, american_countries)\n",
    "european_food_sentence = generate_sentence(\"demonym\", \"Let's go get {} food\", european_demonyms, european_countries)\n",
    "african_food_sentence = generate_sentence(\"demonym\", \"Let's go get {} food\", african_demonyms, african_countries)\n",
    "asian_food_sentence = generate_sentence(\"demonym\", \"Let's go get {} food\", asian_demonyms, asian_countries)\n",
    "oceanian_food_sentence = generate_sentence(\"demonym\", \"Let's go get {} food\", oceanian_demonyms, oceanian_countries)"
   ]
  },
  {
   "cell_type": "code",
   "execution_count": 57,
   "metadata": {},
   "outputs": [],
   "source": [
    "vectorized_food_american = list(map(prepare_sentence, american_food_sentence))\n",
    "vectorized_food_european = list(map(prepare_sentence, european_food_sentence))\n",
    "vectorized_food_african = list(map(prepare_sentence, african_food_sentence))\n",
    "vectorized_food_asian = list(map(prepare_sentence, asian_food_sentence))\n",
    "vectorized_food_oceanian = list(map(prepare_sentence, oceanian_food_sentence))"
   ]
  },
  {
   "cell_type": "code",
   "execution_count": 58,
   "metadata": {},
   "outputs": [],
   "source": [
    "american_food_predictions = pd.DataFrame(model_predict(test_svm, vectorized_food_american), columns=[\"negative_probability\", \"positive_probability\"])\n",
    "european_food_predictions = pd.DataFrame(model_predict(test_svm, vectorized_food_european), columns=[\"negative_probability\", \"positive_probability\"])\n",
    "african_food_predictions = pd.DataFrame(model_predict(test_svm, vectorized_food_african), columns=[\"negative_probability\", \"positive_probability\"])\n",
    "asian_food_predictions = pd.DataFrame(model_predict(test_svm, vectorized_food_asian), columns=[\"negative_probability\", \"positive_probability\"])\n",
    "oceanian_food_predictions = pd.DataFrame(model_predict(test_svm, vectorized_food_oceanian), columns=[\"negative_probability\", \"positive_probability\"])"
   ]
  },
  {
   "cell_type": "code",
   "execution_count": 59,
   "metadata": {},
   "outputs": [],
   "source": [
    "american_food_predictions_mean = american_food_predictions.mean().tolist()\n",
    "european_food_predictions_mean = european_food_predictions.mean().tolist()\n",
    "african_food_predictions_mean = african_food_predictions.mean().tolist()\n",
    "asian_food_predictions_mean = asian_food_predictions.mean().tolist()\n",
    "oceanian_food_predictions_mean = oceanian_food_predictions.mean().tolist()"
   ]
  },
  {
   "cell_type": "code",
   "execution_count": 60,
   "metadata": {},
   "outputs": [],
   "source": [
    "continents_food_mean = {\n",
    "    \"América\": american_food_predictions_mean,\n",
    "    \"Europa\": european_food_predictions_mean,\n",
    "    \"África\": african_food_predictions_mean,\n",
    "    \"Asia\": asian_food_predictions_mean,\n",
    "    \"Oceanía\": oceanian_food_predictions_mean,\n",
    "}"
   ]
  },
  {
   "cell_type": "code",
   "execution_count": 80,
   "metadata": {},
   "outputs": [
    {
     "name": "stdout",
     "output_type": "stream",
     "text": [
      "{'América': [0.46686987131848645, 0.5331301286815135], 'Europa': [0.39795737217519844, 0.6020426278248016], 'África': [0.5249012419993091, 0.4750987580006908], 'Asia': [0.4867570273023392, 0.5132429726976606], 'Oceanía': [0.4733803691717441, 0.5266196308282558]}\n"
     ]
    }
   ],
   "source": [
    "print(continents_food_mean)"
   ]
  },
  {
   "cell_type": "code",
   "execution_count": 61,
   "metadata": {},
   "outputs": [],
   "source": [
    "negative_food_means = {k: v[0] for k, v in continents_food_mean.items()}\n",
    "positive_food_means = {k: v[1] for k, v in continents_food_mean.items()}"
   ]
  },
  {
   "cell_type": "code",
   "execution_count": 79,
   "metadata": {},
   "outputs": [
    {
     "data": {
      "text/plain": [
       "Text(0,0.5,'Probabilidad')"
      ]
     },
     "execution_count": 79,
     "metadata": {},
     "output_type": "execute_result"
    },
    {
     "data": {
      "image/png": "[encoded data removed]",
      "text/plain": [
       "<Figure size 432x288 with 1 Axes>"
      ]
     },
     "metadata": {},
     "output_type": "display_data"
    }
   ],
   "source": [
    "plt.bar(negative_food_means.keys(), negative_food_means.values())\n",
    "plt.title(\"Probabilidad promedio de sentimiento negativo para la frase 'Let's go get {gentilicio} food' según continente\")\n",
    "plt.xlabel(\"Continente\")\n",
    "plt.ylabel(\"Probabilidad\")"
   ]
  },
  {
   "cell_type": "code",
   "execution_count": 78,
   "metadata": {},
   "outputs": [
    {
     "data": {
      "text/plain": [
       "Text(0,0.5,'Probabilidad')"
      ]
     },
     "execution_count": 78,
     "metadata": {},
     "output_type": "execute_result"
    },
    {
     "data": {
      "image/png": "[encoded data removed]",
      "text/plain": [
       "<Figure size 432x288 with 1 Axes>"
      ]
     },
     "metadata": {},
     "output_type": "display_data"
    }
   ],
   "source": [
    "plt.bar(positive_food_means.keys(), positive_food_means.values())\n",
    "plt.title(\"Probabilidad promedio de sentimiento positivo para la frase 'Let's go get {gentilicio} food' según continente\")\n",
    "plt.xlabel(\"Continente\")\n",
    "plt.ylabel(\"Probabilidad\")"
   ]
  },
  {
   "cell_type": "code",
   "execution_count": 67,
   "metadata": {},
   "outputs": [],
   "source": [
    "american_places_sentence = generate_sentence(\"name\", \"Let's go to {}\", american_demonyms, american_countries)\n",
    "european_places_sentence = generate_sentence(\"name\", \"Let's go to {}\", european_demonyms, european_countries)\n",
    "african_places_sentence = generate_sentence(\"name\", \"Let's go to {}\", african_demonyms, african_countries)\n",
    "asian_places_sentence = generate_sentence(\"name\", \"Let's go to {}\", asian_demonyms, asian_countries)\n",
    "oceanian_places_sentence = generate_sentence(\"name\", \"Let's go to {}\", oceanian_demonyms, oceanian_countries)"
   ]
  },
  {
   "cell_type": "code",
   "execution_count": 68,
   "metadata": {},
   "outputs": [],
   "source": [
    "vectorized_place_american = list(map(prepare_sentence, american_places_sentence))\n",
    "vectorized_place_european = list(map(prepare_sentence, european_places_sentence))\n",
    "vectorized_place_african = list(map(prepare_sentence, african_places_sentence))\n",
    "vectorized_place_asian = list(map(prepare_sentence, asian_places_sentence))\n",
    "vectorized_place_oceanian = list(map(prepare_sentence, oceanian_places_sentence))"
   ]
  },
  {
   "cell_type": "code",
   "execution_count": 69,
   "metadata": {},
   "outputs": [],
   "source": [
    "american_places_predictions = pd.DataFrame(model_predict(test_svm, vectorized_place_american), columns=[\"negative_probability\", \"positive_probability\"])\n",
    "european_places_predictions = pd.DataFrame(model_predict(test_svm, vectorized_place_european), columns=[\"negative_probability\", \"positive_probability\"])\n",
    "african_places_predictions = pd.DataFrame(model_predict(test_svm, vectorized_place_african), columns=[\"negative_probability\", \"positive_probability\"])\n",
    "asian_places_predictions = pd.DataFrame(model_predict(test_svm, vectorized_place_asian), columns=[\"negative_probability\", \"positive_probability\"])\n",
    "oceanian_places_predictions = pd.DataFrame(model_predict(test_svm, vectorized_place_oceanian), columns=[\"negative_probability\", \"positive_probability\"])"
   ]
  },
  {
   "cell_type": "code",
   "execution_count": 70,
   "metadata": {},
   "outputs": [],
   "source": [
    "american_places_predictions_mean = american_places_predictions.mean().tolist()\n",
    "european_places_predictions_mean = european_places_predictions.mean().tolist()\n",
    "african_places_predictions_mean = african_places_predictions.mean().tolist()\n",
    "asian_places_predictions_mean = asian_places_predictions.mean().tolist()\n",
    "oceanian_places_predictions_mean = oceanian_places_predictions.mean().tolist()"
   ]
  },
  {
   "cell_type": "code",
   "execution_count": 71,
   "metadata": {},
   "outputs": [],
   "source": [
    "continents_places_mean = {\n",
    "    \"América\": american_places_predictions_mean,\n",
    "    \"Europa\": european_places_predictions_mean,\n",
    "    \"África\": african_places_predictions_mean,\n",
    "    \"Asia\": asian_places_predictions_mean,\n",
    "    \"Oceanía\": oceanian_places_predictions_mean,\n",
    "}"
   ]
  },
  {
   "cell_type": "code",
   "execution_count": 72,
   "metadata": {},
   "outputs": [],
   "source": [
    "negative_places_means = {k: v[0] for k, v in continents_places_mean.items()}\n",
    "positive_places_means = {k: v[1] for k, v in continents_places_mean.items()}"
   ]
  },
  {
   "cell_type": "code",
   "execution_count": 77,
   "metadata": {},
   "outputs": [
    {
     "data": {
      "text/plain": [
       "Text(0.5,1,\"Probabilidad promedio de sentimiento negativo para la frase 'Let's go to {país}' según continente\")"
      ]
     },
     "execution_count": 77,
     "metadata": {},
     "output_type": "execute_result"
    },
    {
     "data": {
      "image/png": "[encoded data removed]",
      "text/plain": [
       "<Figure size 432x288 with 1 Axes>"
      ]
     },
     "metadata": {},
     "output_type": "display_data"
    }
   ],
   "source": [
    "plt.bar(negative_places_means.keys(), negative_places_means.values())\n",
    "plt.title(\"Probabilidad promedio de sentimiento negativo según continente\")\n",
    "plt.xlabel(\"Continente\")\n",
    "plt.ylabel(\"Probabilidad\")\n",
    "plt.title(\"Probabilidad promedio de sentimiento negativo para la frase 'Let's go to {país}' según continente\")"
   ]
  },
  {
   "cell_type": "code",
   "execution_count": 76,
   "metadata": {},
   "outputs": [
    {
     "data": {
      "text/plain": [
       "Text(0.5,1,\"Probabilidad promedio de sentimiento positivo para la frase 'Let's go to {país}' según continente\")"
      ]
     },
     "execution_count": 76,
     "metadata": {},
     "output_type": "execute_result"
    },
    {
     "data": {
      "image/png": "[encoded data removed]",
      "text/plain": [
       "<Figure size 432x288 with 1 Axes>"
      ]
     },
     "metadata": {},
     "output_type": "display_data"
    }
   ],
   "source": [
    "plt.bar(positive_places_means.keys(), positive_places_means.values())\n",
    "plt.title(\"Probabilidad promedio de sentimiento positivo según continente\")\n",
    "plt.xlabel(\"Continente\")\n",
    "plt.ylabel(\"Probabilidad\")\n",
    "plt.title(\"Probabilidad promedio de sentimiento positivo para la frase 'Let's go to {país}' según continente\")"
   ]
  },
  {
   "cell_type": "code",
   "execution_count": 85,
   "metadata": {},
   "outputs": [
    {
     "data": {
      "text/plain": [
       "{'ddns',\n",
       " 'pic.s',\n",
       " 'peschong',\n",
       " 'nur76',\n",
       " 'cteampie',\n",
       " 'bcrs',\n",
       " 'zz9',\n",
       " 'post-genome',\n",
       " 'almaco',\n",
       " 'exuast',\n",
       " '125.69',\n",
       " 'shipuuden',\n",
       " '8.8.6',\n",
       " 'grostic',\n",
       " '5131-5140',\n",
       " 'lift.the',\n",
       " '120-140',\n",
       " 'ecthr',\n",
       " 'bodytext',\n",
       " 'ten-step',\n",
       " 'sameera',\n",
       " 'prach',\n",
       " '115mb',\n",
       " '13.791',\n",
       " '00:00:08',\n",
       " '25,216',\n",
       " 'economically-priced',\n",
       " 'cowi',\n",
       " 'dreadlocks',\n",
       " 'aldenville',\n",
       " 'septagon',\n",
       " '07:55:29',\n",
       " 'mr_shortcut',\n",
       " '280-283',\n",
       " 'erial',\n",
       " 'guokas',\n",
       " 'interesting.thanks',\n",
       " '18:14:08',\n",
       " 'sub-advisors',\n",
       " '21-may-2010',\n",
       " 'bepreve',\n",
       " 'lyonfrancem',\n",
       " 't6e',\n",
       " 'typescancer',\n",
       " 'self-certify',\n",
       " '15:20:26',\n",
       " 'http://www.last.fm/music/band+of+horses',\n",
       " 'tanguero',\n",
       " 'indeed.this',\n",
       " 'missed.',\n",
       " 'tubeporn',\n",
       " 'n42',\n",
       " 'redfawnrising',\n",
       " 'brahma-samhita',\n",
       " 'daimlers',\n",
       " 'camtech',\n",
       " '21:34:25',\n",
       " 'hadnall',\n",
       " 'jne',\n",
       " '@rse',\n",
       " 'andrãs',\n",
       " 'billecart-salmon',\n",
       " '102:1',\n",
       " '518057',\n",
       " 'dashmesh',\n",
       " 'droog',\n",
       " '06/02/03',\n",
       " '#holidays',\n",
       " 'orosius',\n",
       " 'anxiogenic',\n",
       " 'croquettes',\n",
       " 'risquã',\n",
       " 'szczech',\n",
       " 'iht',\n",
       " 'bolillo',\n",
       " '08.34',\n",
       " 'cover.yamaha',\n",
       " 'bioenergies',\n",
       " 'langey',\n",
       " 'callled',\n",
       " 'kannadi',\n",
       " '3/03/01',\n",
       " 'hanley',\n",
       " 'deuxma',\n",
       " '63108',\n",
       " 'configuration/cldc',\n",
       " 'm256',\n",
       " '08:56:01',\n",
       " 'thiosulfate',\n",
       " 'shauntay',\n",
       " '12:16:43',\n",
       " '6,358',\n",
       " 'kupcinet',\n",
       " '77499',\n",
       " '03-03-2008',\n",
       " '282.00',\n",
       " '14:06:40',\n",
       " 'program8',\n",
       " 'racsim',\n",
       " '50-9',\n",
       " 'aaahed',\n",
       " '75089',\n",
       " 'limonia',\n",
       " '18-01-11',\n",
       " 'hot.gay.sexy.dudes.sucking.dicks.links',\n",
       " 'play-off',\n",
       " 'step-off',\n",
       " 'normandale',\n",
       " 'aspnet_regiis',\n",
       " '11/24/07',\n",
       " 'non-prof',\n",
       " ',772',\n",
       " '22084',\n",
       " 'hemminki',\n",
       " 'enducing',\n",
       " '00:52:46',\n",
       " 'a8l',\n",
       " 'diephouse',\n",
       " '975.00',\n",
       " '250-307',\n",
       " 'lifestock',\n",
       " 'atg5',\n",
       " 'westhaven',\n",
       " 'hrca',\n",
       " 'bingie',\n",
       " '16:08:52',\n",
       " 'seven-hour',\n",
       " 'bottari',\n",
       " 'schim',\n",
       " 'perama',\n",
       " 'policemans',\n",
       " 'drug-fighting',\n",
       " 'crematoriums',\n",
       " 'ihla',\n",
       " 'demulcents',\n",
       " 'now4easysoft',\n",
       " 'immunoblotted',\n",
       " 'structurehomodimer',\n",
       " '(636)',\n",
       " 'odger',\n",
       " 'freestall',\n",
       " 'am-6',\n",
       " 'megadrive/genesis',\n",
       " '-1670',\n",
       " 'daines',\n",
       " 'civ2',\n",
       " 'tinh',\n",
       " '2012-20132011-20122010-20112009-20102008-20092007-20082006-20072005-20062004-20052003-20042002-20032001-20022000-20011999-20001998-19991997-1998select',\n",
       " 'beejo',\n",
       " 'sheamus',\n",
       " 'bibtexrtftaggedxmlrissort',\n",
       " 'chodai',\n",
       " 'beerme',\n",
       " 'vleugels',\n",
       " '935,000',\n",
       " 'deep-time',\n",
       " 'thelatest',\n",
       " 'miltona',\n",
       " 'pambansang',\n",
       " 'peigan',\n",
       " 'golikov',\n",
       " 'avotus',\n",
       " '30-08-10',\n",
       " 'apple-raisin',\n",
       " 'pakistan.i',\n",
       " 'otori',\n",
       " '407-2227',\n",
       " 'whippo',\n",
       " 'vt10',\n",
       " 'focaccias',\n",
       " 'kollector',\n",
       " 'avda',\n",
       " 'türkish',\n",
       " 'routemaster',\n",
       " 'deckadance',\n",
       " 'utahan',\n",
       " 'videp',\n",
       " 'rayla',\n",
       " 'wonthe',\n",
       " 'mooseman',\n",
       " 'mdtdenver',\n",
       " 'moderator2009',\n",
       " 'definiti',\n",
       " 'figart',\n",
       " 'dacbsp',\n",
       " 'edge50',\n",
       " '38659',\n",
       " 'partos',\n",
       " 'chumminess',\n",
       " '125mhz',\n",
       " 'fainaru',\n",
       " 'colapietro',\n",
       " '25-04-08',\n",
       " '13:01:16',\n",
       " 'amfebruary',\n",
       " '25/01/2011',\n",
       " 'hr676',\n",
       " 'narimanov',\n",
       " 'ariz.-based',\n",
       " '2008/06/15',\n",
       " 'histograms',\n",
       " 'g25',\n",
       " '16-28mm',\n",
       " '106000',\n",
       " 'clergyperson',\n",
       " '06:51:50',\n",
       " 'shiwan',\n",
       " 'iranâ',\n",
       " '06-06-07',\n",
       " '(>_<)',\n",
       " 'yupa',\n",
       " 'mediabase',\n",
       " '19662',\n",
       " '1.0.2-1',\n",
       " 'httpsession',\n",
       " 'speak-out',\n",
       " 'reindeers',\n",
       " 'popup-menu',\n",
       " 'self-oriented',\n",
       " 'hiruko',\n",
       " '17,479',\n",
       " '48,650',\n",
       " 'monkeying',\n",
       " 'wіll',\n",
       " '750w',\n",
       " '20501',\n",
       " '13,051',\n",
       " '01/98',\n",
       " 'sublicensee',\n",
       " 'malethis',\n",
       " 'pamphill',\n",
       " 'ceglarek',\n",
       " '9:40:00',\n",
       " 'ranon',\n",
       " '0v0',\n",
       " 'mossies',\n",
       " 'zend_hash_find',\n",
       " '2007additional',\n",
       " 'balck',\n",
       " '16:22:56',\n",
       " 'facct',\n",
       " 'canvas/oil',\n",
       " 'solvant',\n",
       " 'enginesused',\n",
       " 'kvint',\n",
       " 'ussd',\n",
       " 'sina',\n",
       " 'homegroup',\n",
       " 'polymer-coated',\n",
       " 'milesverizon',\n",
       " 'ballmoos',\n",
       " 'hlohovec',\n",
       " 'piggy-backing',\n",
       " 'stroh',\n",
       " 'canillas',\n",
       " 'kfj',\n",
       " 'hydrozone',\n",
       " '10:54:27',\n",
       " 'gubernick',\n",
       " '1861-1930',\n",
       " 'tregoze',\n",
       " 'lameth',\n",
       " 'stoper',\n",
       " 'jitesh',\n",
       " 'kawari',\n",
       " '2013oil',\n",
       " 'gcais',\n",
       " 'lorna',\n",
       " 'predialysis',\n",
       " '-2850',\n",
       " 'state-produced',\n",
       " 'mastedon',\n",
       " 'asena',\n",
       " 'joeshmoe',\n",
       " 'onnovember',\n",
       " 'bebber',\n",
       " 'ex-housemate',\n",
       " 'pre-field',\n",
       " 'urpose',\n",
       " 'isochrones',\n",
       " 'presides',\n",
       " '46746',\n",
       " 'ducational',\n",
       " 'centurydimensions',\n",
       " 'usesitemapfor',\n",
       " 'playerlist',\n",
       " 'soyombo',\n",
       " 'gainsbury',\n",
       " 'airmans',\n",
       " 'shizzle',\n",
       " 'uncontrolable',\n",
       " 'reviewmar',\n",
       " '4-th',\n",
       " '3728',\n",
       " 'wiki.answers.com/q/',\n",
       " '25,245',\n",
       " 'favos',\n",
       " '201212:09',\n",
       " '20,909',\n",
       " 'warahmatullah',\n",
       " 'schwortz',\n",
       " '2005â',\n",
       " '313-323',\n",
       " 'streetjacksonville',\n",
       " '#lcm',\n",
       " 'seamanlike',\n",
       " 'simpkin',\n",
       " 'ch2mhill',\n",
       " '08:22:43',\n",
       " 'lsmaker',\n",
       " 'goth-pop',\n",
       " 'alsasink',\n",
       " '8/365',\n",
       " '4830t',\n",
       " 'registrationnumber',\n",
       " 'mnute',\n",
       " '.6.893.15860',\n",
       " 'kezj',\n",
       " '112.52',\n",
       " 'passcards',\n",
       " 'pensile',\n",
       " 'zerne',\n",
       " 'niel',\n",
       " 'tortas',\n",
       " 'big-deal',\n",
       " 'beliefnet',\n",
       " 'huegill',\n",
       " 'sunham',\n",
       " \"l'abbaye\",\n",
       " 'multipule',\n",
       " 'randolph-sheppard',\n",
       " 'earlgreyer',\n",
       " 'entries5',\n",
       " 'monophyletic',\n",
       " 'gordosan',\n",
       " 'wdbj',\n",
       " 'beels',\n",
       " 'gs250',\n",
       " '03:47:13',\n",
       " 'kemmons',\n",
       " 'brown.jpg',\n",
       " '3.025',\n",
       " 'reichenhall',\n",
       " 'plot-land',\n",
       " 'joongang',\n",
       " 'bv02',\n",
       " 'ural',\n",
       " 'amrozi',\n",
       " 'lorincz',\n",
       " 'bussan',\n",
       " 'siriano',\n",
       " 'caila',\n",
       " 'buildings.',\n",
       " 'rescales',\n",
       " 'n6470',\n",
       " 'chheang',\n",
       " '2005-12-28',\n",
       " 'batho',\n",
       " 'resynced',\n",
       " 'hoofcare',\n",
       " 'semi-industrial',\n",
       " 'gloup',\n",
       " 'incredebly',\n",
       " 'rosados',\n",
       " '25/aug/09',\n",
       " '2-meter',\n",
       " 'water-works',\n",
       " 'original.mp3',\n",
       " 'bbc4',\n",
       " 'bielsk',\n",
       " 'out.it',\n",
       " 'reignites',\n",
       " 'receptor-expressing',\n",
       " 'daceasy',\n",
       " 'arschficken',\n",
       " 'okley',\n",
       " '8,151',\n",
       " 'bemobile',\n",
       " '9030',\n",
       " 'marro',\n",
       " 'twittercopyright',\n",
       " 'virusscan',\n",
       " 'volleball',\n",
       " '06:56:55',\n",
       " 'albatrellus',\n",
       " 'you!thanks',\n",
       " '194.1',\n",
       " '12-ct',\n",
       " '#lines',\n",
       " 'wr250f',\n",
       " 'google-branded',\n",
       " 'canifis',\n",
       " 'salesworks',\n",
       " 'khaleghi',\n",
       " '13:26:13',\n",
       " 'pyett',\n",
       " 'milnathort',\n",
       " 'integrations',\n",
       " 'bjcc',\n",
       " 'arrietta',\n",
       " '12-row',\n",
       " 'd142',\n",
       " 'rajuk',\n",
       " 'tokioka',\n",
       " 'cdc42p',\n",
       " 'snakedance',\n",
       " 'downloadablela',\n",
       " 'vieceli',\n",
       " 'timberframe',\n",
       " 'ballingdon',\n",
       " 'gadites',\n",
       " 'hipparcos',\n",
       " '111.31',\n",
       " 'sunsun',\n",
       " 'ajunge',\n",
       " 'ug1',\n",
       " 'dell',\n",
       " 'jingleheimer',\n",
       " 'lejour',\n",
       " 'bethanna',\n",
       " 'modularization',\n",
       " 'bubble-bath',\n",
       " 'castolon',\n",
       " 'wolframite',\n",
       " 'gaula',\n",
       " 'arm-rest',\n",
       " 'boullion',\n",
       " 'buttah',\n",
       " 'larding',\n",
       " 'frostyboy',\n",
       " 'perma-lienenregistrercharger',\n",
       " 'omws',\n",
       " 'cubismo',\n",
       " 'verdero',\n",
       " 'pulsebeat',\n",
       " 'phun',\n",
       " 'rhythmeen',\n",
       " 'abizaid',\n",
       " 'mysterial',\n",
       " 'operability',\n",
       " 'weathercocks',\n",
       " 'alvarius',\n",
       " '03:23:56',\n",
       " 'populi',\n",
       " '4506t',\n",
       " '5/07/01',\n",
       " 'mcdonaldrask',\n",
       " 'androstadienone',\n",
       " '73145',\n",
       " 'theresa111',\n",
       " 'tracksby',\n",
       " '86.18',\n",
       " 'self.state',\n",
       " 'uropathogenic',\n",
       " 'photos2009',\n",
       " 'cheddar/jack',\n",
       " 'lights/products',\n",
       " '136lbs',\n",
       " 'roz',\n",
       " 'outdoor124',\n",
       " 'inertial',\n",
       " 'ux-50',\n",
       " '130pm',\n",
       " 'onycholysis',\n",
       " 'shitboxes',\n",
       " '49:16',\n",
       " 'fox19.com-cincinnati',\n",
       " 'barrias',\n",
       " 'anythig',\n",
       " '2chron',\n",
       " '523.2',\n",
       " 'citre',\n",
       " 'sideswipe',\n",
       " 'wg-review',\n",
       " '600,000-700',\n",
       " '.2969',\n",
       " '12:57:28',\n",
       " 'yuehong',\n",
       " 'lidsville',\n",
       " 'dartifactid',\n",
       " 'planetccrma',\n",
       " 'thollem',\n",
       " 'zajednica',\n",
       " 'gps/navigation',\n",
       " 'sweetart',\n",
       " 'stupidd',\n",
       " 'upjohn',\n",
       " 'pôle',\n",
       " '00327',\n",
       " 'somе',\n",
       " '475-477',\n",
       " 'armbars',\n",
       " 'teske',\n",
       " 'buddleias',\n",
       " '13:08:43',\n",
       " 'vella',\n",
       " '03:03:38',\n",
       " 'bogglingly',\n",
       " 'hierarcy',\n",
       " 'đorđe',\n",
       " 'mulkerrin',\n",
       " 'quad-lock',\n",
       " 'agri-foods',\n",
       " 'jugis',\n",
       " 'sandwhich',\n",
       " 'ocells',\n",
       " '25,361',\n",
       " '3160',\n",
       " 'sufficeth',\n",
       " '218cm',\n",
       " 'ungod',\n",
       " 'hdh',\n",
       " '12:05:07',\n",
       " 'merifield',\n",
       " 'mccool',\n",
       " 'yeaterday',\n",
       " 'dinicola',\n",
       " 'thanks!remember',\n",
       " 'now.reset',\n",
       " 'portunus',\n",
       " 'franciscowhat',\n",
       " '15,816',\n",
       " 'pôquercasinos',\n",
       " 'top10',\n",
       " '1995-2013',\n",
       " '3809',\n",
       " 'salvataggio',\n",
       " 'preason',\n",
       " 'life/death',\n",
       " 'tailfins',\n",
       " 'scx-4521f',\n",
       " 'krachen',\n",
       " 'anicius',\n",
       " '17:53:05',\n",
       " 'pussyole',\n",
       " 'novelby',\n",
       " \"d'honneur\",\n",
       " 'baptismo',\n",
       " 'wojtek',\n",
       " '.03:47',\n",
       " 'schulwerk',\n",
       " 'othеr',\n",
       " 'arantes',\n",
       " 'friendsbe',\n",
       " 'nurding',\n",
       " 'twiyt',\n",
       " 's35vn',\n",
       " 'tytn',\n",
       " 'trade-weighted',\n",
       " 'mugho',\n",
       " 'openlp',\n",
       " ':2057',\n",
       " '@april',\n",
       " 'agreementthis',\n",
       " 'south/charleston',\n",
       " 'ednote',\n",
       " 'monumenta',\n",
       " '2cmi',\n",
       " 'taxidermists',\n",
       " 'heari',\n",
       " 'it.looks',\n",
       " 'metal/polymer',\n",
       " 'user_page',\n",
       " 'goldmedalmortgage.com',\n",
       " 'corporativas',\n",
       " 'bcda',\n",
       " 'forsikring',\n",
       " '01:15',\n",
       " 'ford-festiva',\n",
       " 'obihai',\n",
       " 'scullions',\n",
       " '31-b',\n",
       " '20:12:31',\n",
       " 'igrt',\n",
       " '18-02-10',\n",
       " '10600',\n",
       " 'machinemáquinas',\n",
       " 'binan',\n",
       " 'euck',\n",
       " 'me-ality',\n",
       " 'geyer',\n",
       " 'tunnelthe',\n",
       " 'great-grandparent',\n",
       " 'non-beverage',\n",
       " 'recharges',\n",
       " 'chille',\n",
       " 'delicate-looking',\n",
       " '10051id',\n",
       " 'platmin',\n",
       " '21:35:19',\n",
       " 'neumatic',\n",
       " 'thecae',\n",
       " '134.05',\n",
       " 'kurniawan',\n",
       " '0-600',\n",
       " 'schledorn',\n",
       " 'exreme',\n",
       " '21,016',\n",
       " 'lukwago',\n",
       " 'zhengdong',\n",
       " 'tailgator',\n",
       " '70/90',\n",
       " 'alternate-world',\n",
       " 'streamwriter',\n",
       " 'stufflebeem',\n",
       " '67-77',\n",
       " 'prol',\n",
       " 'sook',\n",
       " 'badroom',\n",
       " '23-23',\n",
       " 'oct-1993',\n",
       " 'sound-level',\n",
       " 'wavefile',\n",
       " 'rdauburn',\n",
       " 'da4',\n",
       " '3.5-5',\n",
       " 'guidea',\n",
       " 'fedspending.org',\n",
       " 'emberley',\n",
       " 'vanderhurst',\n",
       " 'sitemap.html',\n",
       " 'exl110',\n",
       " 'pdf.js',\n",
       " 'gamalon',\n",
       " 'detonado',\n",
       " 'toniolo',\n",
       " 'recipeschocolate',\n",
       " 'expressthe',\n",
       " 'attacks.',\n",
       " '01-25-2007',\n",
       " 'simple-mindedness',\n",
       " 'the-dark',\n",
       " '05:52:19',\n",
       " 'thassit',\n",
       " 'midnight',\n",
       " '4uu',\n",
       " 'gunky',\n",
       " 'levanto',\n",
       " '2,857',\n",
       " '86.75',\n",
       " 'snrnps',\n",
       " 'non-scary',\n",
       " 'jomsocial',\n",
       " 'celaque',\n",
       " 'chess-board',\n",
       " 'lagaya',\n",
       " '04:48:36',\n",
       " 'geezerhood',\n",
       " '16-car',\n",
       " 'polumbus',\n",
       " '16:47:06',\n",
       " 'chatas',\n",
       " '78370',\n",
       " 'hour.however',\n",
       " 'groups.for',\n",
       " '18,886',\n",
       " 'wed/thu',\n",
       " 'gathergood',\n",
       " 'basundi',\n",
       " 'maxandchloe.com',\n",
       " 'rn46',\n",
       " 'handlebar-mounted',\n",
       " 'zoea',\n",
       " 'stattersfield',\n",
       " '17394',\n",
       " '18.5-19',\n",
       " 'online-prescription-canada',\n",
       " 'eurosensors',\n",
       " '08/20/08',\n",
       " 'bremont',\n",
       " 'electricians13',\n",
       " 'ethiopienne',\n",
       " 'open-box',\n",
       " '116,000',\n",
       " 'americahttp',\n",
       " 'inciden',\n",
       " 'pptm',\n",
       " 'judy1',\n",
       " 'el5_7',\n",
       " '23,249',\n",
       " 'boniello',\n",
       " 'qbk',\n",
       " 'unreasonableness',\n",
       " 'temblor',\n",
       " 'appletons',\n",
       " 'activity_id',\n",
       " 'pleaseing',\n",
       " 'dissatisfactions',\n",
       " 'benihime',\n",
       " 'ulmer',\n",
       " 'inc.bank',\n",
       " 'logicfaq',\n",
       " '11,733',\n",
       " '58356',\n",
       " '4-weight',\n",
       " 'kummert',\n",
       " 'beastleaping',\n",
       " '#tiffany',\n",
       " 'inc.biological',\n",
       " 'sabya',\n",
       " '359,900',\n",
       " 'j3ff',\n",
       " 'postsplease',\n",
       " 'payment-by-results',\n",
       " 'rondberg',\n",
       " 'wwhy',\n",
       " 'ofamily',\n",
       " 'lavamancer',\n",
       " '8,639',\n",
       " 'fox-tv',\n",
       " '01-10-2011',\n",
       " 'bourgoin',\n",
       " 'uranium',\n",
       " 'multi-button',\n",
       " 'partnere',\n",
       " '2-4am',\n",
       " 'minarchist',\n",
       " 'budkin',\n",
       " 'stokstad',\n",
       " 'hla-a0201',\n",
       " '33,034',\n",
       " 'genero.tv',\n",
       " 'pierri',\n",
       " '2812',\n",
       " 'abyssmedia',\n",
       " 'rapita',\n",
       " 'england.',\n",
       " '16328',\n",
       " 'cherusci',\n",
       " 'colom',\n",
       " 'ziggys',\n",
       " 'beverello',\n",
       " '220-802',\n",
       " '21:57:43',\n",
       " 'frec',\n",
       " 'subscriberanswer',\n",
       " 'navaja',\n",
       " 'relay_recipient_maps',\n",
       " 'blackhand',\n",
       " 'green/blue/red',\n",
       " 'fabriek',\n",
       " 'pearen',\n",
       " 'koningin',\n",
       " 'toronto.com',\n",
       " 'second-leading',\n",
       " 'world.http',\n",
       " 'programs.com',\n",
       " 'kuinka',\n",
       " '15-inch',\n",
       " 'bluevelvet',\n",
       " 'reach.i',\n",
       " 'alt/option',\n",
       " '1.002',\n",
       " 'buses-charter',\n",
       " 'idsm',\n",
       " 'theeeee',\n",
       " 'leaf-litter',\n",
       " 'ml-3471nd',\n",
       " 'canal-front',\n",
       " 'optware',\n",
       " 'hispanic-serving',\n",
       " 'haks',\n",
       " 'www.businessinsider.com',\n",
       " 'izbor',\n",
       " '479-481',\n",
       " 'web-casting',\n",
       " 'bharatiya',\n",
       " 'throath',\n",
       " 'linerated',\n",
       " 'imshow',\n",
       " 'timesaver',\n",
       " '6pm-3am',\n",
       " 'jamwiki',\n",
       " 'stream-of-conscious',\n",
       " '17-47',\n",
       " 'subpacket',\n",
       " 'petyt',\n",
       " '8468',\n",
       " 'mrdreadful',\n",
       " 'zipkey',\n",
       " 'hobden',\n",
       " 'detached4',\n",
       " 'wdmz',\n",
       " 'hpfp',\n",
       " '34816',\n",
       " 'confido',\n",
       " 'doorhandles',\n",
       " 'piecejewelry',\n",
       " '57028',\n",
       " '11/12/91',\n",
       " 'clocher',\n",
       " 'cenicola/the',\n",
       " '20dbi',\n",
       " 'munita',\n",
       " 'thermopolis',\n",
       " 'cupons',\n",
       " '10,123',\n",
       " 'cybernats',\n",
       " 'wvir',\n",
       " '#strong',\n",
       " 'mobile.advertiser-tribune',\n",
       " '19:45:38',\n",
       " '22:39:09',\n",
       " '4,402',\n",
       " '100fps',\n",
       " 'cdkn1a',\n",
       " 'perubahan',\n",
       " 'horáková',\n",
       " 'multi-chaptered',\n",
       " 'shum',\n",
       " 'ameagle',\n",
       " 'polytone',\n",
       " 'proquad',\n",
       " 'jeanloz',\n",
       " 'no-move',\n",
       " 'tsujikawa',\n",
       " 'subscriptionid',\n",
       " 'furtif',\n",
       " 'glycaemic',\n",
       " 'tweet11',\n",
       " '09:54:09',\n",
       " 'lgbt-rights',\n",
       " '54-9',\n",
       " 'suges',\n",
       " 'normalizations',\n",
       " 'nigrescens',\n",
       " 'natoinal',\n",
       " 'terindah',\n",
       " 'mountainthe',\n",
       " 'dailor',\n",
       " '866-714-6466',\n",
       " 'periparturient',\n",
       " 'e172',\n",
       " 'guitarist-singer',\n",
       " 'goyanes',\n",
       " '60kmph',\n",
       " 'twinn',\n",
       " 'allstate.com',\n",
       " 'calabar',\n",
       " '01:54:50',\n",
       " '35,715',\n",
       " '17:40:16',\n",
       " 'nobelprocera',\n",
       " 'in.it',\n",
       " 'stern-to',\n",
       " 'premillennial',\n",
       " 'elevage',\n",
       " 'latting',\n",
       " 'computer-assisted',\n",
       " 'kyoudai',\n",
       " '25,925',\n",
       " '1-http',\n",
       " 'it-and',\n",
       " '3-p',\n",
       " 'jerrica',\n",
       " 'sort-of',\n",
       " 'dinc',\n",
       " 'superbookcasinos',\n",
       " 'vacuum-insulated',\n",
       " 'fullqueen',\n",
       " 'sanberg',\n",
       " 'thalib',\n",
       " 'studentoffortune.com',\n",
       " 'brotchie',\n",
       " 'flexagons',\n",
       " '05-31-12',\n",
       " 'alabamaalabama',\n",
       " 'avelli',\n",
       " 'employee-friendly',\n",
       " 'talin',\n",
       " 'mid-low',\n",
       " 'se50',\n",
       " '36051',\n",
       " '2009-07-07',\n",
       " 'nandor',\n",
       " 'corections',\n",
       " 'casinoconnect2casino',\n",
       " 'reloded',\n",
       " 'nawiliwili',\n",
       " 'coocks',\n",
       " '26.01.12',\n",
       " 'vroc',\n",
       " 'mountain-grown',\n",
       " '2007-07-02',\n",
       " 'rastell',\n",
       " 'application-centered',\n",
       " '-0289',\n",
       " 'osiek',\n",
       " '313-322',\n",
       " 'tscpa',\n",
       " 'staubsauger',\n",
       " 'iclock',\n",
       " '2.418',\n",
       " '05-03-05',\n",
       " 'fufck',\n",
       " 'junon',\n",
       " '17:47:14',\n",
       " '6.200',\n",
       " '03:26:44',\n",
       " 'aulock',\n",
       " 'w25',\n",
       " 'allelu',\n",
       " 'libmad',\n",
       " '190-828',\n",
       " '25830',\n",
       " 'wwant',\n",
       " 'twin-beds',\n",
       " 'marchuk',\n",
       " 'már',\n",
       " 'glasses',\n",
       " 'available-online',\n",
       " 'steauafortza',\n",
       " 'sauckel',\n",
       " 'insightiq',\n",
       " '14:21:26',\n",
       " 'torbanlea',\n",
       " '12:07:01',\n",
       " 'w/ob',\n",
       " 'rejuventation',\n",
       " 'unfurled',\n",
       " 'mountainboard',\n",
       " 'oladeji',\n",
       " 'chainman',\n",
       " 'high-res',\n",
       " 'whiteread',\n",
       " 'trans-europe',\n",
       " 'lionsault',\n",
       " 'tetra',\n",
       " 'business.decoding',\n",
       " 'myster',\n",
       " 'ds100',\n",
       " 'mareggiata',\n",
       " 'feature.profile',\n",
       " '15,152',\n",
       " 'eacd',\n",
       " 'sawn',\n",
       " 'tbpc',\n",
       " 'intesa',\n",
       " 'tautavel',\n",
       " 'magazine!mousewait',\n",
       " 'misscarriage',\n",
       " '03.01.01',\n",
       " '9,712',\n",
       " 'magalogs',\n",
       " 'n/areview',\n",
       " 'shp1',\n",
       " 'guisto',\n",
       " 'misako',\n",
       " 'ôr',\n",
       " 'good.there',\n",
       " 'vaporfection',\n",
       " 'hochberg',\n",
       " 'amherstburg',\n",
       " '+1.68',\n",
       " 'higher-ups',\n",
       " 'trixbox',\n",
       " 'austevoll',\n",
       " 'predistrict',\n",
       " 'monkeybicycle',\n",
       " 'ateus',\n",
       " '0m12s',\n",
       " 'spondylotic',\n",
       " '5:41:30',\n",
       " 'cm3/g',\n",
       " 'dressesprom',\n",
       " 'krejčí',\n",
       " '43-60',\n",
       " 'mpremap.c',\n",
       " 'carlprit',\n",
       " '13:25:42',\n",
       " 'zedinosk',\n",
       " 'oceanownershipland',\n",
       " 'over-exposing',\n",
       " 'goodcompany',\n",
       " 'hackear',\n",
       " '27241',\n",
       " '587.99',\n",
       " 'fayle',\n",
       " '579,000',\n",
       " 'fuckyeahmovieclub',\n",
       " '30-10-2004',\n",
       " 'mokko',\n",
       " 'apptd',\n",
       " 'assessmentssearchadvanced',\n",
       " 'latest-news',\n",
       " '22:22:03',\n",
       " 'interstateeight',\n",
       " 'eight-metre',\n",
       " '1976-1991',\n",
       " 'vaginismus',\n",
       " 'chester',\n",
       " 'mccurry',\n",
       " 'ibison',\n",
       " 'catslady',\n",
       " '25/12/09',\n",
       " 'biemann',\n",
       " '05:10:55',\n",
       " 'hafi',\n",
       " 'trilogia',\n",
       " 'al-qaida',\n",
       " ...}"
      ]
     },
     "execution_count": 85,
     "metadata": {},
     "output_type": "execute_result"
    }
   ],
   "source": [
    "set(glove_words) - set(positive_data_lemmatized).union(set(negative_data_lemmatized))"
   ]
  },
  {
   "cell_type": "code",
   "execution_count": 88,
   "metadata": {},
   "outputs": [
    {
     "data": {
      "text/plain": [
       "array([[0.002804, 0.997196],\n",
       "       [0.899619, 0.100381]])"
      ]
     },
     "execution_count": 88,
     "metadata": {},
     "output_type": "execute_result"
    }
   ],
   "source": [
    "test_svm.predict_proba(list(map(vec, [\"italian\", \"mexican\"])))"
   ]
  },
  {
   "cell_type": "code",
   "execution_count": null,
   "metadata": {},
   "outputs": [],
   "source": []
  }
 ],
 "metadata": {
  "kernelspec": {
   "display_name": "Python 3",
   "language": "python",
   "name": "python3"
  },
  "language_info": {
   "codemirror_mode": {
    "name": "ipython",
    "version": 3
   },
   "file_extension": ".py",
   "mimetype": "text/x-python",
   "name": "python",
   "nbconvert_exporter": "python",
   "pygments_lexer": "ipython3",
   "version": "3.6.4"
  }
 },
 "nbformat": 4,
 "nbformat_minor": 2
}
