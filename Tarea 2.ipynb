{
 "cells": [
  {
   "cell_type": "markdown",
   "metadata": {},
   "source": [
    "# Tarea 2: análisis de sentimientos usando aprendizaje supervisado\n",
    "\n",
    "##### Por: Daniela Flores Villanueva \n",
    "\n",
    "## Sobre las librerías"
   ]
  },
  {
   "cell_type": "markdown",
   "metadata": {},
   "source": [
    "En primer lugar, se cargan todas las librerías empleadas en esta tarea:\n",
    "- `pandas`: librería utilizada para cargar la matriz GloVe y posteriormente, para confeccionar un `DataFrame` con palabras y su sentimiento asociado.\n",
    "- `csv`: utilizada para cargar los vectores, según lo dispuesto en [este](https://stackoverflow.com/questions/37793118/load-pretrained-glove-vectors-in-python) sitio.\n",
    "- `nltk`: se usó para cargar el *opinion lexicon* descrito en el enunciado de manera conveniente. Se probó además sus métodos para realizar lematización, proceso que consiste en, dada una palabra flexionada (en forma plural, verbo conjugado, etc), encontrar su lema, es decir, algo similar a la forma en que sería encontrada en un diccionario.\n",
    "- `string`: para obtener signos de puntuación, con el objeto de pre-procesar oraciones.\n",
    "- `sklearn`: se utilizaron sus implementaciones de *Support Vector Machines*, *K-Nearest Neighbors* y *Random Forest* para construir clasificadores para el sentimiento de palabras y posteriormente oraciones. Se aprovechó también `train_test_split` para separar los datos en conjuntos de entrenamiento y de prueba, `GridSearchCV` para la calibración de hiperparámetros y los métodos `accuracy_score`, `precision_score`, `recall_score` y `f1-score` para cuantificar el desempeño de los modelos. Finalmente `joblib` se utiliza para serializar y guardar los modelos entrenados."
   ]
  },
  {
   "cell_type": "code",
   "execution_count": 1,
   "metadata": {},
   "outputs": [
    {
     "name": "stdout",
     "output_type": "stream",
     "text": [
      "[nltk_data] Downloading package stopwords to\n",
      "[nltk_data]     /Users/DanielaFlores/nltk_data...\n",
      "[nltk_data]   Package stopwords is already up-to-date!\n",
      "[nltk_data] Downloading package opinion_lexicon to\n",
      "[nltk_data]     /Users/DanielaFlores/nltk_data...\n",
      "[nltk_data]   Package opinion_lexicon is already up-to-date!\n",
      "[nltk_data] Downloading package punkt to\n",
      "[nltk_data]     /Users/DanielaFlores/nltk_data...\n",
      "[nltk_data]   Package punkt is already up-to-date!\n"
     ]
    }
   ],
   "source": [
    "import pandas as pd\n",
    "import csv\n",
    "from nltk.stem import WordNetLemmatizer\n",
    "import numpy as np\n",
    "import nltk\n",
    "nltk.download(\"stopwords\")\n",
    "nltk.download(\"opinion_lexicon\")\n",
    "nltk.download('punkt')\n",
    "from nltk.corpus import opinion_lexicon\n",
    "from nltk.corpus import stopwords\n",
    "from nltk.tokenize import word_tokenize\n",
    "from string import punctuation\n",
    "from sklearn.model_selection import train_test_split\n",
    "from sklearn.model_selection import GridSearchCV\n",
    "from sklearn.svm import SVC\n",
    "from sklearn.neighbors import KNeighborsClassifier\n",
    "from sklearn.ensemble import RandomForestClassifier\n",
    "from sklearn.metrics import accuracy_score, precision_score, recall_score, f1_score\n",
    "from sklearn.externals import joblib\n",
    "import pickle\n",
    "import matplotlib.pyplot as plt\n",
    "from countryinfo import countries"
   ]
  },
  {
   "cell_type": "code",
   "execution_count": 2,
   "metadata": {},
   "outputs": [],
   "source": [
    "np.set_printoptions(formatter={'float_kind':'{:f}'.format})"
   ]
  },
  {
   "cell_type": "code",
   "execution_count": 3,
   "metadata": {},
   "outputs": [],
   "source": [
    "GLOVE_PATH = \"./glove.42B.300d.txt\""
   ]
  },
  {
   "cell_type": "code",
   "execution_count": 4,
   "metadata": {},
   "outputs": [],
   "source": [
    "NON_WORDS = list(punctuation)\n",
    "NON_WORDS.extend(map(str, range(10)))"
   ]
  },
  {
   "cell_type": "code",
   "execution_count": 5,
   "metadata": {},
   "outputs": [],
   "source": [
    "ENGLISH_STOPWORDS = stopwords.words(\"english\")"
   ]
  },
  {
   "cell_type": "markdown",
   "metadata": {},
   "source": [
    "La forma de cargar el opinion lexicon es la descrita en la [documentación](http://www.nltk.org/api/nltk.corpus.reader.html?highlight=wordnet) de NLTK."
   ]
  },
  {
   "cell_type": "code",
   "execution_count": 6,
   "metadata": {},
   "outputs": [],
   "source": [
    "positive_data = opinion_lexicon.positive()\n",
    "negative_data = opinion_lexicon.negative()"
   ]
  },
  {
   "cell_type": "markdown",
   "metadata": {},
   "source": [
    "Con el fin de tener una representación más general de las palabras, se convierte cada vocablo en las listas anteriores a minúsculas."
   ]
  },
  {
   "cell_type": "code",
   "execution_count": 7,
   "metadata": {},
   "outputs": [],
   "source": [
    "positive_data = [word.lower() for word in positive_data]\n",
    "negative_data = [word.lower() for word in negative_data]"
   ]
  },
  {
   "cell_type": "markdown",
   "metadata": {},
   "source": [
    "A continuación, se carga la matriz de *embeddings*:"
   ]
  },
  {
   "cell_type": "code",
   "execution_count": 8,
   "metadata": {},
   "outputs": [],
   "source": [
    "glove_matrix = pd.read_csv(GLOVE_PATH, sep=\" \", index_col=0, header=None, quoting=csv.QUOTE_NONE, na_values=None, keep_default_na=False)"
   ]
  },
  {
   "cell_type": "markdown",
   "metadata": {},
   "source": [
    "En el mismo recurso para cargar la matriz en memoria (adjunto en la descripción de las librerías utilizadas), se menciona una función que, dada una palabra, retorna su *embedding*. Esta función es `vec(w)`, definida a continuación:"
   ]
  },
  {
   "cell_type": "code",
   "execution_count": 9,
   "metadata": {},
   "outputs": [],
   "source": [
    "def vec(w): \n",
    "    return glove_matrix.loc[w].as_matrix()"
   ]
  },
  {
   "cell_type": "markdown",
   "metadata": {},
   "source": [
    "## Breve análisis exploratorio\n",
    "\n",
    "No se puede empezar a trabajar sin tener al menos una noción básica de la composición de la matriz y de las palabras con etiqueta. Por esta razón, en primer lugar cabe preguntarse cuántas palabras hay en la matriz de *embeddings*."
   ]
  },
  {
   "cell_type": "code",
   "execution_count": 10,
   "metadata": {},
   "outputs": [
    {
     "name": "stdout",
     "output_type": "stream",
     "text": [
      "1917494\n"
     ]
    }
   ],
   "source": [
    "glove_words = set(glove_matrix.index.tolist())\n",
    "print(len(glove_words))\n",
    "pickle.dump(glove_words, open(\"glove_words.pkl\", \"wb\"))"
   ]
  },
  {
   "cell_type": "markdown",
   "metadata": {},
   "source": [
    "Podría ocurrir que no todas las palabras que tenemos etiquetadas según su polaridad tengan su representación vectorial en GloVe, por lo que conviene realizar el siguiente análisis:\n",
    "Dada la unión entre las palabras de polaridad positiva y las de polaridad negativa, se revisa si están o no en la matriz. De no estar, se agregan a la lista `missing_words`, para decidir qué hacer con ellas futuramente."
   ]
  },
  {
   "cell_type": "code",
   "execution_count": 11,
   "metadata": {},
   "outputs": [
    {
     "name": "stdout",
     "output_type": "stream",
     "text": [
      "161\n"
     ]
    }
   ],
   "source": [
    "missing_words = set()\n",
    "for word in set(positive_data).union(set(negative_data)):\n",
    "    if word not in glove_words:\n",
    "        missing_words.add(word)\n",
    "print(len(missing_words))"
   ]
  },
  {
   "cell_type": "markdown",
   "metadata": {},
   "source": [
    "Es posible notar que hay 161 palabras del *opinion lexicon* para las que no se tiene una representación vectorial. Antes de decidir qué hacer con estas palabras faltantes, conviene preguntarse si existen palabras que estén etiquetadas tanto de polaridad positiva como de polaridad negativa."
   ]
  },
  {
   "cell_type": "code",
   "execution_count": 12,
   "metadata": {},
   "outputs": [
    {
     "name": "stdout",
     "output_type": "stream",
     "text": [
      "{'envious', 'enviously', 'enviousness'}\n"
     ]
    }
   ],
   "source": [
    "wrong_tag = set(positive_data).intersection(negative_data)\n",
    "print(wrong_tag)"
   ]
  },
  {
   "cell_type": "markdown",
   "metadata": {},
   "source": [
    "Así, se evidencia que tres palabras relacionadas a la envidia parecen estar mal etiquetadas, pues no deberían aparecer entre las palabras positivas."
   ]
  },
  {
   "cell_type": "markdown",
   "metadata": {},
   "source": [
    "A continuación, se procede a realizar lematización de los vocablos positivos y negativos, para ver si existe algún cambio en la cantidad palabras sin *embedding* tras este cambio."
   ]
  },
  {
   "cell_type": "code",
   "execution_count": 13,
   "metadata": {},
   "outputs": [],
   "source": [
    "positive_data_lemmatized = {nltk.stem.WordNetLemmatizer().lemmatize(word) for word in positive_data}\n",
    "negative_data_lemmatized = {nltk.stem.WordNetLemmatizer().lemmatize(word) for word in negative_data}"
   ]
  },
  {
   "cell_type": "code",
   "execution_count": 14,
   "metadata": {},
   "outputs": [
    {
     "name": "stdout",
     "output_type": "stream",
     "text": [
      "160\n"
     ]
    }
   ],
   "source": [
    "missing_words_lemmatized = set()\n",
    "for word in positive_data_lemmatized.union(set(negative_data_lemmatized)):\n",
    "    if word not in glove_words:\n",
    "        missing_words_lemmatized.add(word)\n",
    "print(len(missing_words_lemmatized))"
   ]
  },
  {
   "cell_type": "code",
   "execution_count": 15,
   "metadata": {},
   "outputs": [
    {
     "name": "stdout",
     "output_type": "stream",
     "text": [
      "{'enviously', 'envious', 'enviousness', 'plea'}\n"
     ]
    }
   ],
   "source": [
    "wrong_tag_lemmatized = set(positive_data_lemmatized).intersection(negative_data_lemmatized)\n",
    "print(wrong_tag_lemmatized)"
   ]
  },
  {
   "cell_type": "code",
   "execution_count": 16,
   "metadata": {},
   "outputs": [],
   "source": [
    "positive_data_lemmatized = positive_data_lemmatized - wrong_tag_lemmatized"
   ]
  },
  {
   "cell_type": "markdown",
   "metadata": {},
   "source": [
    "Al lematizar, es posible notar que hay una palabra menos que no tiene representación vectorial. En la siguiente celda, podrá evidenciarse qué palabra es la que hace la diferencia:"
   ]
  },
  {
   "cell_type": "code",
   "execution_count": 17,
   "metadata": {},
   "outputs": [
    {
     "name": "stdout",
     "output_type": "stream",
     "text": [
      "{'spoilages'}\n"
     ]
    }
   ],
   "source": [
    "print(missing_words - missing_words_lemmatized)"
   ]
  },
  {
   "cell_type": "markdown",
   "metadata": {},
   "source": [
    "## Preprocesamiento de los datos\n",
    "\n",
    "En las siguientes líneas, se iterará por sobre todas las palabras en los conjuntos de palabras reducidas a su lema (`positive_data_lemmatized` y `negative_data_lemmatized`), con el fin de encontrar su vector en la matriz de *embeddings* GloVe. Estos vectores se guardarán en las matrices `positive_matrix` y `negative_matrix`, que contendrán, respectivamente, las palabras de sentimiento positivo y negativo.\n",
    "\n",
    "Es importante destacar el trato que reciben las palabras para las que no se dispone una representación vectorial. Tras [investigar](https://github.com/stanfordnlp/GloVe/search?utf8=%E2%9C%93&q=unk&type=), se descubrió que GloVe incluye un vector estándar para las palabras sin *word embedding*, el que en esta tarea puede obtenerse con `vec(\"unk\")`. Así, a todas las palabras del *opinion lexicon* que no tienen *embedding* en GloVe, se les asigna el vector antes mencionado."
   ]
  },
  {
   "cell_type": "code",
   "execution_count": 18,
   "metadata": {},
   "outputs": [],
   "source": [
    "positive_matrix = np.empty((0, 300))\n",
    "positive_data_lemmatized = list(positive_data_lemmatized)\n",
    "for word in positive_data_lemmatized:\n",
    "    if word in glove_words:\n",
    "        positive_matrix = np.append(positive_matrix, [vec(word)], axis=0)\n",
    "    else:\n",
    "        positive_matrix = np.append(positive_matrix, [vec(\"unk\")], axis=0)"
   ]
  },
  {
   "cell_type": "code",
   "execution_count": 19,
   "metadata": {},
   "outputs": [],
   "source": [
    "negative_matrix = np.empty((0, 300))\n",
    "negative_data_lemmatized = list(negative_data_lemmatized)\n",
    "for word in negative_data_lemmatized:\n",
    "    if word in glove_words:\n",
    "        negative_matrix = np.append(negative_matrix, [vec(word)], axis=0)\n",
    "    else:\n",
    "        negative_matrix = np.append(negative_matrix, [vec(\"unk\")], axis=0)"
   ]
  },
  {
   "cell_type": "markdown",
   "metadata": {},
   "source": [
    "Se observa que las matrices recién formadas efectivamente contienen todas las representaciones vectoriales que corresponden:"
   ]
  },
  {
   "cell_type": "code",
   "execution_count": 20,
   "metadata": {},
   "outputs": [
    {
     "name": "stdout",
     "output_type": "stream",
     "text": [
      "1951 (1951, 300)\n",
      "4492 (4492, 300)\n"
     ]
    }
   ],
   "source": [
    "print(len(positive_data_lemmatized), positive_matrix.shape)\n",
    "print(len(negative_data_lemmatized), negative_matrix.shape)"
   ]
  },
  {
   "cell_type": "markdown",
   "metadata": {},
   "source": [
    "Se definen las etiquetas para cada ejemplo en el *data set*."
   ]
  },
  {
   "cell_type": "code",
   "execution_count": 21,
   "metadata": {},
   "outputs": [],
   "source": [
    "positive_labels = [1] * positive_matrix.shape[0]\n",
    "negative_labels = [0] * negative_matrix.shape[0]\n",
    "all_labels = positive_labels + negative_labels"
   ]
  },
  {
   "cell_type": "markdown",
   "metadata": {},
   "source": [
    "Finalmente, se concatenan las matrices `positive_matrix` y `negative_matrix`."
   ]
  },
  {
   "cell_type": "code",
   "execution_count": 22,
   "metadata": {},
   "outputs": [
    {
     "name": "stdout",
     "output_type": "stream",
     "text": [
      "(6443, 300)\n"
     ]
    }
   ],
   "source": [
    "concatenated_matrix = np.concatenate([positive_matrix, negative_matrix], axis=0)\n",
    "print(concatenated_matrix.shape)"
   ]
  },
  {
   "cell_type": "markdown",
   "metadata": {},
   "source": [
    "## Clasificación de sentimiento de palabras\n",
    "\n",
    "### Separación entre entrenamiento y *testing*\n",
    "\n",
    "Con el objeto de hacer una correcta clasificación, se separan los datos en entrenamiento y *testing*. En particular, se utiliza el 80% de los datos para entrenar los modelos y 20% para probarlos."
   ]
  },
  {
   "cell_type": "code",
   "execution_count": 23,
   "metadata": {},
   "outputs": [],
   "source": [
    "all_words = positive_data_lemmatized + negative_data_lemmatized\n",
    "X_train, X_test, y_train, y_test, words_train, words_test = train_test_split(concatenated_matrix, all_labels, all_words, test_size=0.2, random_state=0)"
   ]
  },
  {
   "cell_type": "markdown",
   "metadata": {},
   "source": [
    "### Calibración de híper-parámetros\n",
    "\n",
    "Para mejorar el desempeño de los modelos, se define la siguiente función para calibrar los híper-parámetros correspondientes. Esto se hace posible gracias a `GridSearchCV`, que recibe un modelo, los datos de entrenamiento, los híper-parámetros a testear y la cantidad de *folds* en que se separarán los datos (de acuerdo a la documentación, los datos se separán de forma que se conserven las proporciones originales de las clases). Con esta información, `GridSearchCV` probará todas las combinaciones de híper-parámetros y se realizará validación cruzada con ellas. Finalmente se retornará la combinación de híper-parámetros que haya obtenido mejor `cross_val_score`."
   ]
  },
  {
   "cell_type": "code",
   "execution_count": 24,
   "metadata": {},
   "outputs": [],
   "source": [
    "def estimator_grid_search(estimator, parameters):\n",
    "    clf = GridSearchCV(estimator=estimator, param_grid=parameters, n_jobs=-1, cv=5)\n",
    "    clf.fit(X_train, y_train)   \n",
    "    print(\"Mejor accuracy: {}\".format(clf.best_score_))\n",
    "    return clf"
   ]
  },
  {
   "cell_type": "markdown",
   "metadata": {},
   "source": [
    "### Medición del desempeño de los modelos\n",
    "\n",
    "Para evaluar los modelos, es necesario cuantificar su desempeño. Por esta razón, se define la función `get_metrics` que dado un conjunto de entrenamiento con sus respectivas etiquetas, permite obtener un diccionario con las principales métricas para tareas de clasificación."
   ]
  },
  {
   "cell_type": "code",
   "execution_count": 25,
   "metadata": {},
   "outputs": [],
   "source": [
    "def get_metrics(clf, X_test, y_test):\n",
    "    metrics = {}\n",
    "    predictions = clf.predict(X_test)\n",
    "    metrics[\"accuracy\"] = accuracy_score(y_test, predictions)\n",
    "    metrics[\"precision\"] = precision_score(y_test, predictions)\n",
    "    metrics[\"recall\"] = recall_score(y_test, predictions)\n",
    "    metrics[\"f1-score\"] = f1_score(y_test, predictions)\n",
    "    return metrics"
   ]
  },
  {
   "cell_type": "markdown",
   "metadata": {},
   "source": [
    "### Guardar modelos\n",
    "\n",
    "La función `save_model` permite guardar los clasificadores entrenados en esta tarea."
   ]
  },
  {
   "cell_type": "code",
   "execution_count": 26,
   "metadata": {},
   "outputs": [],
   "source": [
    "def save_model(clf, clf_name):\n",
    "    joblib.dump(clf, \"best_{}.pkl\".format(clf_name))"
   ]
  },
  {
   "cell_type": "markdown",
   "metadata": {},
   "source": [
    "### SVM\n",
    "\n",
    "\n",
    "El primer modelo entrenado en esta tarea corresponde a *Support Vector Machines*. Para ajustarlo, primero se realiza la calibración de híper-parámetros. Una vez encontrada la mejor combinación de ellos, se entrena el clasificador con ellos y los datos de entrenamiento. Finalmente, se obtienen las métricas antes descritas sobre el set de *testing*. Como los datos de este conjunto no han sido vistos por el modelo, puede asumirse que las métricas son una buena muestra de la calidad del clasificador."
   ]
  },
  {
   "cell_type": "code",
   "execution_count": 27,
   "metadata": {},
   "outputs": [
    {
     "name": "stdout",
     "output_type": "stream",
     "text": [
      "Mejor accuracy: 0.9410166860690725\n",
      "Mejor C: 10\n",
      "Mejor kernel: rbf\n",
      "Mejor Gamma: 0.0033333333333333335\n",
      "{'accuracy': 0.9425911559348332, 'precision': 0.928374655647383, 'recall': 0.8753246753246753, 'f1-score': 0.9010695187165776}\n"
     ]
    }
   ],
   "source": [
    "svm_params = {\n",
    "    \"C\": [1, 10],\n",
    "    \"gamma\": [0.001, 0.0001, 1/300],\n",
    "    \"kernel\": [\"linear\", \"poly\", \"rbf\", \"sigmoid\"]\n",
    "}\n",
    "tuning_svm = estimator_grid_search(SVC(), svm_params)\n",
    "print(\"Mejor C: {}\".format(tuning_svm.best_estimator_.C))\n",
    "print(\"Mejor kernel: {}\".format(tuning_svm.best_estimator_.kernel))\n",
    "print(\"Mejor Gamma: {}\".format(tuning_svm.best_estimator_.gamma))\n",
    "final_svm = SVC(C=tuning_svm.best_estimator_.C, \n",
    "                kernel=tuning_svm.best_estimator_.kernel, \n",
    "                gamma=tuning_svm.best_estimator_.gamma, probability=True)\n",
    "final_svm.fit(X_train, y_train)\n",
    "svm_final_metrics = get_metrics(final_svm, X_test, y_test)\n",
    "print(svm_final_metrics)\n",
    "save_model(final_svm, \"SVM\")"
   ]
  },
  {
   "cell_type": "markdown",
   "metadata": {},
   "source": [
    "### KNN\n",
    "\n",
    "Se realizan los mismos pasos que en el caso del SVM, pero ahora para entrenar un clasificador KNN."
   ]
  },
  {
   "cell_type": "code",
   "execution_count": 28,
   "metadata": {},
   "outputs": [
    {
     "name": "stdout",
     "output_type": "stream",
     "text": [
      "Mejor accuracy: 0.9105549088086923\n",
      "Mejor K: 5\n",
      "Mejor algoritmo de búsqueda de vecinos: kd_tree\n",
      "{'accuracy': 0.9030256012412723, 'precision': 0.9166666666666666, 'recall': 0.7428571428571429, 'f1-score': 0.8206599713055955}\n"
     ]
    }
   ],
   "source": [
    "knn_params = {\"n_neighbors\": np.arange(5) + 1, \"algorithm\": [\"kd_tree\", \"ball_tree\"]}\n",
    "tuning_knn = estimator_grid_search(KNeighborsClassifier(), knn_params)\n",
    "print(\"Mejor K: {}\".format(tuning_knn.best_estimator_.n_neighbors)) \n",
    "print(\"Mejor algoritmo de búsqueda de vecinos: {}\".format(tuning_knn.best_estimator_.algorithm))\n",
    "final_knn = KNeighborsClassifier(n_neighbors=tuning_knn.best_estimator_.n_neighbors, \n",
    "                                 algorithm=tuning_knn.best_estimator_.algorithm)\n",
    "final_knn.fit(X_train, y_train)\n",
    "knn_final_metrics = get_metrics(final_knn, X_test, y_test)\n",
    "print(knn_final_metrics)\n",
    "save_model(final_knn, \"KNN\")"
   ]
  },
  {
   "cell_type": "markdown",
   "metadata": {},
   "source": [
    "### Random Forest\n",
    "\n",
    "Finalmente, se evaluó el desempeño de un ensamble de árboles de decisión sobre esta tarea de clasificación."
   ]
  },
  {
   "cell_type": "code",
   "execution_count": 29,
   "metadata": {},
   "outputs": [
    {
     "name": "stdout",
     "output_type": "stream",
     "text": [
      "Mejor accuracy: 0.862824990298797\n",
      "Mejor cantidad de árboles: 9\n",
      "Mejor criterio de división: entropy\n",
      "Mejor cantidad máxima de features: None\n",
      "{'accuracy': 0.8673390224980605, 'precision': 0.8407643312101911, 'recall': 0.6857142857142857, 'f1-score': 0.7553648068669528}\n"
     ]
    }
   ],
   "source": [
    "rf_params = {\n",
    "    \"n_estimators\": np.arange(10) + 1, \n",
    "    \"criterion\": [\"gini\", \"entropy\"], \n",
    "    \"max_features\": [\"sqrt\", \"log2\", None]}\n",
    "tuning_rf = estimator_grid_search(RandomForestClassifier(), rf_params)\n",
    "print(\"Mejor cantidad de árboles: {}\".format(tuning_rf.best_estimator_.n_estimators))\n",
    "print(\"Mejor criterio de división: {}\".format(tuning_rf.best_estimator_.criterion))\n",
    "print(\"Mejor cantidad máxima de features: {}\".format(tuning_rf.best_estimator_.max_features))\n",
    "final_rf = RandomForestClassifier(n_estimators=tuning_rf.best_estimator_.n_estimators,\n",
    "                                 criterion=tuning_rf.best_estimator_.criterion,\n",
    "                                 max_features=tuning_rf.best_estimator_.max_features)\n",
    "final_rf.fit(X_train, y_train)\n",
    "rf_final_metrics = get_metrics(final_rf, X_test, y_test)\n",
    "print(rf_final_metrics)\n",
    "save_model(final_rf, \"RF\")"
   ]
  },
  {
   "cell_type": "markdown",
   "metadata": {},
   "source": [
    "En el enunciado de la tarea, se pide que los modelos tengan salida continua. Es por eso que se define la función `model_predict`, que retorna la probabilidad de pertenencia a cada una de las clases (positivo/negativo)."
   ]
  },
  {
   "cell_type": "code",
   "execution_count": 30,
   "metadata": {},
   "outputs": [],
   "source": [
    "def model_predict(clf, test_set):\n",
    "    return clf.predict_proba(test_set)"
   ]
  },
  {
   "cell_type": "markdown",
   "metadata": {},
   "source": [
    "### Comparación de clasificadores\n",
    "\n",
    "A continuación, se comparan los clasificadores según las métricas anteriormente descritas:"
   ]
  },
  {
   "cell_type": "code",
   "execution_count": 31,
   "metadata": {},
   "outputs": [
    {
     "name": "stderr",
     "output_type": "stream",
     "text": [
      "/Library/Frameworks/Python.framework/Versions/3.6/lib/python3.6/site-packages/matplotlib/cbook/deprecation.py:107: MatplotlibDeprecationWarning: Adding an axes using the same arguments as a previous axes currently reuses the earlier instance.  In a future version, a new instance will always be created and returned.  Meanwhile, this warning can be suppressed, and the future behavior ensured, by passing a unique label to each axes instance.\n",
      "  warnings.warn(message, mplDeprecation, stacklevel=1)\n"
     ]
    },
    {
     "data": {
      "text/plain": [
       "<matplotlib.legend.Legend at 0x11b722080>"
      ]
     },
     "execution_count": 31,
     "metadata": {},
     "output_type": "execute_result"
    },
    {
     "data": {
      "image/png": "[encoded data removed]",
      "text/plain": [
       "<Figure size 432x288 with 1 Axes>"
      ]
     },
     "metadata": {},
     "output_type": "display_data"
    }
   ],
   "source": [
    "r1 = np.arange(4)\n",
    "r2 = [x + 0.25 for x in r1]\n",
    "r3 = [x + 0.25 for x in r2]\n",
    "\n",
    "labels = [k for k, v in svm_final_metrics.items()]\n",
    "svm_values = [v for k, v in svm_final_metrics.items()]\n",
    "knn_values = [v for k, v in knn_final_metrics.items()]\n",
    "rf_values = [v for k, v in rf_final_metrics.items()]\n",
    "\n",
    "plt.xticks([r + 0.25 for r in range(4)], labels)\n",
    "ax = plt.subplot(111)\n",
    "ax.bar(r1, svm_values,width=0.25,color='b', align='center')\n",
    "ax.bar(r2, knn_values, width=0.25,color='g', align='center')\n",
    "ax.bar(r3, rf_values, width=0.25, color='r', align='center')\n",
    "plt.legend([\"SVM\", \"KNN\", \"RF\"])"
   ]
  },
  {
   "cell_type": "markdown",
   "metadata": {},
   "source": [
    "Para comparar las salidas continuas con las verdaderas etiquetas de los datos, se crean los siguientes `DataFrame`:"
   ]
  },
  {
   "cell_type": "code",
   "execution_count": 32,
   "metadata": {},
   "outputs": [],
   "source": [
    "svm_df = pd.DataFrame(model_predict(final_svm,  X_test), columns=[\"negative_probability\", \"positive_probability\"])\n",
    "knn_df = pd.DataFrame(model_predict(final_knn, X_test), columns=[\"negative_probability\", \"positive_probability\"])\n",
    "rf_df = pd.DataFrame(model_predict(final_rf, X_test), columns=[\"negative_probability\", \"positive_probability\"])\n",
    "svm_df[\"word\"] = words_test\n",
    "knn_df[\"word\"] = words_test\n",
    "rf_df[\"word\"] = words_test\n",
    "svm_df[\"true_label\"] = y_test\n",
    "knn_df[\"true_label\"] = y_test\n",
    "rf_df[\"true_label\"] = y_test\n",
    "\n",
    "svm_df = svm_df[[\"word\", \"negative_probability\", \"positive_probability\", \"true_label\"]]\n",
    "knn_df = knn_df[[\"word\", \"negative_probability\", \"positive_probability\", \"true_label\"]]\n",
    "rf_df = rf_df[[\"word\", \"negative_probability\", \"positive_probability\", \"true_label\"]]"
   ]
  },
  {
   "cell_type": "code",
   "execution_count": 33,
   "metadata": {},
   "outputs": [
    {
     "data": {
      "text/html": [
       "<div>\n",
       "<style scoped>\n",
       "    .dataframe tbody tr th:only-of-type {\n",
       "        vertical-align: middle;\n",
       "    }\n",
       "\n",
       "    .dataframe tbody tr th {\n",
       "        vertical-align: top;\n",
       "    }\n",
       "\n",
       "    .dataframe thead th {\n",
       "        text-align: right;\n",
       "    }\n",
       "</style>\n",
       "<table border=\"1\" class=\"dataframe\">\n",
       "  <thead>\n",
       "    <tr style=\"text-align: right;\">\n",
       "      <th></th>\n",
       "      <th>word</th>\n",
       "      <th>negative_probability</th>\n",
       "      <th>positive_probability</th>\n",
       "      <th>true_label</th>\n",
       "    </tr>\n",
       "  </thead>\n",
       "  <tbody>\n",
       "    <tr>\n",
       "      <th>278</th>\n",
       "      <td>obstructs</td>\n",
       "      <td>0.996745</td>\n",
       "      <td>0.003255</td>\n",
       "      <td>0</td>\n",
       "    </tr>\n",
       "    <tr>\n",
       "      <th>437</th>\n",
       "      <td>complaint</td>\n",
       "      <td>0.992827</td>\n",
       "      <td>0.007173</td>\n",
       "      <td>0</td>\n",
       "    </tr>\n",
       "    <tr>\n",
       "      <th>629</th>\n",
       "      <td>fever</td>\n",
       "      <td>0.987698</td>\n",
       "      <td>0.012302</td>\n",
       "      <td>0</td>\n",
       "    </tr>\n",
       "    <tr>\n",
       "      <th>1091</th>\n",
       "      <td>favored</td>\n",
       "      <td>0.015562</td>\n",
       "      <td>0.984438</td>\n",
       "      <td>1</td>\n",
       "    </tr>\n",
       "    <tr>\n",
       "      <th>1241</th>\n",
       "      <td>mockingly</td>\n",
       "      <td>0.959380</td>\n",
       "      <td>0.040620</td>\n",
       "      <td>0</td>\n",
       "    </tr>\n",
       "  </tbody>\n",
       "</table>\n",
       "</div>"
      ],
      "text/plain": [
       "           word  negative_probability  positive_probability  true_label\n",
       "278   obstructs              0.996745              0.003255           0\n",
       "437   complaint              0.992827              0.007173           0\n",
       "629       fever              0.987698              0.012302           0\n",
       "1091    favored              0.015562              0.984438           1\n",
       "1241  mockingly              0.959380              0.040620           0"
      ]
     },
     "metadata": {},
     "output_type": "display_data"
    },
    {
     "data": {
      "text/html": [
       "<div>\n",
       "<style scoped>\n",
       "    .dataframe tbody tr th:only-of-type {\n",
       "        vertical-align: middle;\n",
       "    }\n",
       "\n",
       "    .dataframe tbody tr th {\n",
       "        vertical-align: top;\n",
       "    }\n",
       "\n",
       "    .dataframe thead th {\n",
       "        text-align: right;\n",
       "    }\n",
       "</style>\n",
       "<table border=\"1\" class=\"dataframe\">\n",
       "  <thead>\n",
       "    <tr style=\"text-align: right;\">\n",
       "      <th></th>\n",
       "      <th>word</th>\n",
       "      <th>negative_probability</th>\n",
       "      <th>positive_probability</th>\n",
       "      <th>true_label</th>\n",
       "    </tr>\n",
       "  </thead>\n",
       "  <tbody>\n",
       "    <tr>\n",
       "      <th>278</th>\n",
       "      <td>obstructs</td>\n",
       "      <td>1.0</td>\n",
       "      <td>0.0</td>\n",
       "      <td>0</td>\n",
       "    </tr>\n",
       "    <tr>\n",
       "      <th>437</th>\n",
       "      <td>complaint</td>\n",
       "      <td>0.8</td>\n",
       "      <td>0.2</td>\n",
       "      <td>0</td>\n",
       "    </tr>\n",
       "    <tr>\n",
       "      <th>629</th>\n",
       "      <td>fever</td>\n",
       "      <td>1.0</td>\n",
       "      <td>0.0</td>\n",
       "      <td>0</td>\n",
       "    </tr>\n",
       "    <tr>\n",
       "      <th>1091</th>\n",
       "      <td>favored</td>\n",
       "      <td>0.2</td>\n",
       "      <td>0.8</td>\n",
       "      <td>1</td>\n",
       "    </tr>\n",
       "    <tr>\n",
       "      <th>1241</th>\n",
       "      <td>mockingly</td>\n",
       "      <td>0.8</td>\n",
       "      <td>0.2</td>\n",
       "      <td>0</td>\n",
       "    </tr>\n",
       "  </tbody>\n",
       "</table>\n",
       "</div>"
      ],
      "text/plain": [
       "           word  negative_probability  positive_probability  true_label\n",
       "278   obstructs                   1.0                   0.0           0\n",
       "437   complaint                   0.8                   0.2           0\n",
       "629       fever                   1.0                   0.0           0\n",
       "1091    favored                   0.2                   0.8           1\n",
       "1241  mockingly                   0.8                   0.2           0"
      ]
     },
     "metadata": {},
     "output_type": "display_data"
    },
    {
     "data": {
      "text/html": [
       "<div>\n",
       "<style scoped>\n",
       "    .dataframe tbody tr th:only-of-type {\n",
       "        vertical-align: middle;\n",
       "    }\n",
       "\n",
       "    .dataframe tbody tr th {\n",
       "        vertical-align: top;\n",
       "    }\n",
       "\n",
       "    .dataframe thead th {\n",
       "        text-align: right;\n",
       "    }\n",
       "</style>\n",
       "<table border=\"1\" class=\"dataframe\">\n",
       "  <thead>\n",
       "    <tr style=\"text-align: right;\">\n",
       "      <th></th>\n",
       "      <th>word</th>\n",
       "      <th>negative_probability</th>\n",
       "      <th>positive_probability</th>\n",
       "      <th>true_label</th>\n",
       "    </tr>\n",
       "  </thead>\n",
       "  <tbody>\n",
       "    <tr>\n",
       "      <th>278</th>\n",
       "      <td>obstructs</td>\n",
       "      <td>1.000000</td>\n",
       "      <td>0.000000</td>\n",
       "      <td>0</td>\n",
       "    </tr>\n",
       "    <tr>\n",
       "      <th>437</th>\n",
       "      <td>complaint</td>\n",
       "      <td>0.444444</td>\n",
       "      <td>0.555556</td>\n",
       "      <td>0</td>\n",
       "    </tr>\n",
       "    <tr>\n",
       "      <th>629</th>\n",
       "      <td>fever</td>\n",
       "      <td>1.000000</td>\n",
       "      <td>0.000000</td>\n",
       "      <td>0</td>\n",
       "    </tr>\n",
       "    <tr>\n",
       "      <th>1091</th>\n",
       "      <td>favored</td>\n",
       "      <td>0.444444</td>\n",
       "      <td>0.555556</td>\n",
       "      <td>1</td>\n",
       "    </tr>\n",
       "    <tr>\n",
       "      <th>1241</th>\n",
       "      <td>mockingly</td>\n",
       "      <td>0.777778</td>\n",
       "      <td>0.222222</td>\n",
       "      <td>0</td>\n",
       "    </tr>\n",
       "  </tbody>\n",
       "</table>\n",
       "</div>"
      ],
      "text/plain": [
       "           word  negative_probability  positive_probability  true_label\n",
       "278   obstructs              1.000000              0.000000           0\n",
       "437   complaint              0.444444              0.555556           0\n",
       "629       fever              1.000000              0.000000           0\n",
       "1091    favored              0.444444              0.555556           1\n",
       "1241  mockingly              0.777778              0.222222           0"
      ]
     },
     "metadata": {},
     "output_type": "display_data"
    }
   ],
   "source": [
    "random_words = svm_df.sample(5)[\"word\"].tolist()\n",
    "\n",
    "display(svm_df[svm_df[\"word\"].isin(random_words)])\n",
    "display(knn_df[knn_df[\"word\"].isin(random_words)])\n",
    "display(rf_df[rf_df[\"word\"].isin(random_words)])"
   ]
  },
  {
   "cell_type": "markdown",
   "metadata": {},
   "source": [
    "## Predicción de sentimiento deoraciones\n",
    "\n",
    "En esta sección se detalla lo necesario para extender el poder de los modelos a la clasificación de oraciones de largo arbitrario.\n",
    "### Preprocesamiento de las oraciones\n",
    "\n",
    "Con el fin de eliminar las partes de las oraciones que no aportan demasiado a su significado, se realiza lo siguiente dentro de la función `tokenize_lemmatize`:\n",
    "- Se convierte la oración recibida a minúsculas.\n",
    "- Se eliminan los caracteres que no corresponden a letras (signos de puntuación y números).\n",
    "- Se separa la oración en *tokens*.\n",
    "- Se remueven las *stopwords*, palabras comunes que no contribuyen al significado de una oración.\n",
    "- Lematización, tal como se explicó en una sección anterior."
   ]
  },
  {
   "cell_type": "code",
   "execution_count": 34,
   "metadata": {},
   "outputs": [],
   "source": [
    "def tokenize_lemmatize(sentence):\n",
    "    sentence = sentence.lower()\n",
    "    words_sentence = ''.join([c for c in sentence if c not in NON_WORDS])\n",
    "    tokenized_sentence = word_tokenize(words_sentence)\n",
    "    removed_stopwords = [word for word in tokenized_sentence if word not in ENGLISH_STOPWORDS]\n",
    "    lemmatized_sentence = [nltk.stem.WordNetLemmatizer().lemmatize(word) for word in removed_stopwords]\n",
    "    return tokenized_sentence"
   ]
  },
  {
   "cell_type": "markdown",
   "metadata": {},
   "source": [
    "La obtención de la representación vectorial es similar a la utilizada para las palabras. En el caso de las oraciones, se obtiene el vector de cada palabra en la oración y se guarda en `sentence_matrix`. De no contar con el *embedding*, se utiliza el vector de \"unk\". Posteriormente, se promedian todas las coordenadas de los vectores en `sentence_matrix` y se guarda en `mean_sentence_vector`. Este será el vector que represente a una oración."
   ]
  },
  {
   "cell_type": "code",
   "execution_count": 35,
   "metadata": {},
   "outputs": [],
   "source": [
    "def vectorize_sentence(sentence):\n",
    "    sentence_matrix = np.empty((0, 300))\n",
    "    for word in sentence:\n",
    "        if word in glove_words:\n",
    "            sentence_matrix = np.append(sentence_matrix, [vec(word)], axis=0)\n",
    "        else:\n",
    "            sentence_matrix = np.append(sentence_matrix, [vec(\"unk\")], axis=0)\n",
    "    mean_sentence_vector = sentence_matrix.mean(0)\n",
    "    if np.isnan(np.sum(mean_sentence_vector)):\n",
    "        mean_sentence_vector = vec(\"unk\")\n",
    "    return mean_sentence_vector"
   ]
  },
  {
   "cell_type": "markdown",
   "metadata": {},
   "source": [
    "La siguiente función ejecuta las dos funciones anteriores y retorna la representación vectorial de la oración entregada."
   ]
  },
  {
   "cell_type": "code",
   "execution_count": 36,
   "metadata": {},
   "outputs": [],
   "source": [
    "def prepare_sentence(sentence):\n",
    "    tokenized = tokenize_lemmatize(sentence)\n",
    "    vectorized = vectorize_sentence(tokenized)\n",
    "    return vectorized"
   ]
  },
  {
   "cell_type": "markdown",
   "metadata": {},
   "source": [
    "### Evaluación de los modelos sobre frases reales\n",
    "\n",
    "Para evaluar el desempeño del modelo, se utiliza el *data set* [Sentiment Labelled Sentences](https://archive.ics.uci.edu/ml/datasets/Sentiment+Labelled+Sentences). Las siguientes líneas cargan y pre-procesan estos nuevos datos."
   ]
  },
  {
   "cell_type": "code",
   "execution_count": 37,
   "metadata": {},
   "outputs": [],
   "source": [
    "amazon = pd.read_csv(\"amazon_cells_labelled.txt\", sep=\"\\t\", names=[\"sentence\", \"polarity\"])\n",
    "imdb = pd.read_csv(\"imdb_labelled.txt\", sep=\"\\t\", names=[\"sentence\", \"polarity\"])\n",
    "yelp = pd.read_csv(\"yelp_labelled.txt\", sep=\"\\t\", names=[\"sentence\", \"polarity\"])"
   ]
  },
  {
   "cell_type": "code",
   "execution_count": 38,
   "metadata": {},
   "outputs": [
    {
     "data": {
      "text/html": [
       "<div>\n",
       "<style scoped>\n",
       "    .dataframe tbody tr th:only-of-type {\n",
       "        vertical-align: middle;\n",
       "    }\n",
       "\n",
       "    .dataframe tbody tr th {\n",
       "        vertical-align: top;\n",
       "    }\n",
       "\n",
       "    .dataframe thead th {\n",
       "        text-align: right;\n",
       "    }\n",
       "</style>\n",
       "<table border=\"1\" class=\"dataframe\">\n",
       "  <thead>\n",
       "    <tr style=\"text-align: right;\">\n",
       "      <th></th>\n",
       "      <th>sentence</th>\n",
       "      <th>polarity</th>\n",
       "    </tr>\n",
       "  </thead>\n",
       "  <tbody>\n",
       "    <tr>\n",
       "      <th>0</th>\n",
       "      <td>So there is no way for me to plug it in here i...</td>\n",
       "      <td>0</td>\n",
       "    </tr>\n",
       "    <tr>\n",
       "      <th>1</th>\n",
       "      <td>Good case, Excellent value.</td>\n",
       "      <td>1</td>\n",
       "    </tr>\n",
       "    <tr>\n",
       "      <th>2</th>\n",
       "      <td>Great for the jawbone.</td>\n",
       "      <td>1</td>\n",
       "    </tr>\n",
       "    <tr>\n",
       "      <th>3</th>\n",
       "      <td>Tied to charger for conversations lasting more...</td>\n",
       "      <td>0</td>\n",
       "    </tr>\n",
       "    <tr>\n",
       "      <th>4</th>\n",
       "      <td>The mic is great.</td>\n",
       "      <td>1</td>\n",
       "    </tr>\n",
       "  </tbody>\n",
       "</table>\n",
       "</div>"
      ],
      "text/plain": [
       "                                            sentence  polarity\n",
       "0  So there is no way for me to plug it in here i...         0\n",
       "1                        Good case, Excellent value.         1\n",
       "2                             Great for the jawbone.         1\n",
       "3  Tied to charger for conversations lasting more...         0\n",
       "4                                  The mic is great.         1"
      ]
     },
     "execution_count": 38,
     "metadata": {},
     "output_type": "execute_result"
    }
   ],
   "source": [
    "all_sentences = pd.concat([amazon, imdb, yelp])\n",
    "all_sentences.head()"
   ]
  },
  {
   "cell_type": "code",
   "execution_count": 39,
   "metadata": {},
   "outputs": [],
   "source": [
    "X_sentence_test = all_sentences[\"sentence\"].tolist()\n",
    "y_sentence_test = all_sentences[\"polarity\"]"
   ]
  },
  {
   "cell_type": "code",
   "execution_count": 40,
   "metadata": {},
   "outputs": [
    {
     "name": "stderr",
     "output_type": "stream",
     "text": [
      "/Library/Frameworks/Python.framework/Versions/3.6/lib/python3.6/site-packages/ipykernel_launcher.py:8: RuntimeWarning: Mean of empty slice.\n",
      "  \n",
      "/Library/Frameworks/Python.framework/Versions/3.6/lib/python3.6/site-packages/numpy/core/_methods.py:73: RuntimeWarning: invalid value encountered in true_divide\n",
      "  ret, rcount, out=ret, casting='unsafe', subok=False)\n"
     ]
    }
   ],
   "source": [
    "vectorized_sentences = list(map(prepare_sentence, X_sentence_test))"
   ]
  },
  {
   "cell_type": "markdown",
   "metadata": {},
   "source": [
    "Lo anterior permite obtener las siguientes métricas: "
   ]
  },
  {
   "cell_type": "code",
   "execution_count": 41,
   "metadata": {},
   "outputs": [
    {
     "name": "stdout",
     "output_type": "stream",
     "text": [
      "{'accuracy': 0.6128093158660844, 'precision': 0.567139282735613, 'recall': 0.9812409812409812, 'f1-score': 0.7188160676532769}\n",
      "{'accuracy': 0.5513100436681223, 'precision': 0.531084924827306, 'recall': 0.943001443001443, 'f1-score': 0.6794905120873407}\n",
      "{'accuracy': 0.5636826783114993, 'precision': 0.5375954965822276, 'recall': 0.9646464646464646, 'f1-score': 0.6904208623805834}\n"
     ]
    }
   ],
   "source": [
    "print(get_metrics(final_svm, vectorized_sentences, y_sentence_test))\n",
    "print(get_metrics(final_knn, vectorized_sentences, y_sentence_test))\n",
    "print(get_metrics(final_rf, vectorized_sentences, y_sentence_test))"
   ]
  },
  {
   "cell_type": "markdown",
   "metadata": {},
   "source": [
    "## Reentrenamiento de los modelos\n",
    "\n",
    "Se observa que el desempeño no es tan bueno como el que se tiene para la predicción de sentimiento de palabras. Por esta razón, se reentrenan los modelos anteriores con los datos para palabras y el 80% de los nuevos datos."
   ]
  },
  {
   "cell_type": "code",
   "execution_count": 42,
   "metadata": {},
   "outputs": [],
   "source": [
    "new_concatenated_matrix = np.concatenate([positive_matrix, negative_matrix, vectorized_sentences], axis=0)\n",
    "new_all_labels = positive_labels + negative_labels + y_sentence_test.tolist()"
   ]
  },
  {
   "cell_type": "code",
   "execution_count": 43,
   "metadata": {},
   "outputs": [],
   "source": [
    "words_and_sentences = all_words + X_sentence_test\n",
    "new_X_train, new_X_test, new_y_train, new_y_test, new_words_train, new_words_test  = train_test_split(new_concatenated_matrix, new_all_labels, words_and_sentences, test_size=0.2, random_state=0)"
   ]
  },
  {
   "cell_type": "code",
   "execution_count": 44,
   "metadata": {},
   "outputs": [],
   "source": [
    "new_svm = SVC(C=tuning_svm.best_estimator_.C, \n",
    "                kernel=tuning_svm.best_estimator_.kernel, \n",
    "                gamma=tuning_svm.best_estimator_.gamma, probability=True)\n",
    "new_knn = KNeighborsClassifier(n_neighbors=tuning_knn.best_estimator_.n_neighbors, \n",
    "                                 algorithm=tuning_knn.best_estimator_.algorithm)\n",
    "new_rf = RandomForestClassifier(n_estimators=tuning_rf.best_estimator_.n_estimators,\n",
    "                                 criterion=tuning_rf.best_estimator_.criterion,\n",
    "                                 max_features=tuning_rf.best_estimator_.max_features)"
   ]
  },
  {
   "cell_type": "code",
   "execution_count": 45,
   "metadata": {},
   "outputs": [
    {
     "data": {
      "text/plain": [
       "RandomForestClassifier(bootstrap=True, class_weight=None, criterion='entropy',\n",
       "            max_depth=None, max_features=None, max_leaf_nodes=None,\n",
       "            min_impurity_decrease=0.0, min_impurity_split=None,\n",
       "            min_samples_leaf=1, min_samples_split=2,\n",
       "            min_weight_fraction_leaf=0.0, n_estimators=9, n_jobs=1,\n",
       "            oob_score=False, random_state=None, verbose=0,\n",
       "            warm_start=False)"
      ]
     },
     "execution_count": 45,
     "metadata": {},
     "output_type": "execute_result"
    }
   ],
   "source": [
    "new_svm.fit(new_X_train, new_y_train)\n",
    "new_knn.fit(new_X_train, new_y_train)\n",
    "new_rf.fit(new_X_train, new_y_train)"
   ]
  },
  {
   "cell_type": "markdown",
   "metadata": {},
   "source": [
    "Así, se obtienen las siguientes métricas."
   ]
  },
  {
   "cell_type": "code",
   "execution_count": 46,
   "metadata": {},
   "outputs": [
    {
     "name": "stdout",
     "output_type": "stream",
     "text": [
      "{'accuracy': 0.9173463839042958, 'precision': 0.9080645161290323, 'recall': 0.8556231003039514, 'f1-score': 0.8810641627543037}\n",
      "{'accuracy': 0.8471995649809679, 'precision': 0.8136439267886856, 'recall': 0.743161094224924, 'f1-score': 0.7768069896743447}\n",
      "{'accuracy': 0.8401305057096248, 'precision': 0.8170731707317073, 'recall': 0.7127659574468085, 'f1-score': 0.7613636363636364}\n"
     ]
    }
   ],
   "source": [
    "new_svm_metrics = get_metrics(new_svm, new_X_test, new_y_test)\n",
    "new_knn_metrics = get_metrics(new_knn, new_X_test, new_y_test)\n",
    "new_rf_metrics = get_metrics(new_rf, new_X_test, new_y_test)\n",
    "print(new_svm_metrics)\n",
    "print(new_knn_metrics)\n",
    "print(new_rf_metrics)"
   ]
  },
  {
   "cell_type": "code",
   "execution_count": 47,
   "metadata": {},
   "outputs": [
    {
     "name": "stderr",
     "output_type": "stream",
     "text": [
      "/Library/Frameworks/Python.framework/Versions/3.6/lib/python3.6/site-packages/matplotlib/cbook/deprecation.py:107: MatplotlibDeprecationWarning: Adding an axes using the same arguments as a previous axes currently reuses the earlier instance.  In a future version, a new instance will always be created and returned.  Meanwhile, this warning can be suppressed, and the future behavior ensured, by passing a unique label to each axes instance.\n",
      "  warnings.warn(message, mplDeprecation, stacklevel=1)\n"
     ]
    },
    {
     "data": {
      "text/plain": [
       "Text(0.5,1,'Comparación de modelos según distintas métricas')"
      ]
     },
     "execution_count": 47,
     "metadata": {},
     "output_type": "execute_result"
    },
    {
     "data": {
      "image/png": "[encoded data removed]",
      "text/plain": [
       "<Figure size 432x288 with 1 Axes>"
      ]
     },
     "metadata": {},
     "output_type": "display_data"
    }
   ],
   "source": [
    "r1 = np.arange(4)\n",
    "r2 = [x + 0.25 for x in r1]\n",
    "r3 = [x + 0.25 for x in r2]\n",
    "\n",
    "labels = [k for k, v in new_svm_metrics.items()]\n",
    "svm_values = [v for k, v in new_svm_metrics.items()]\n",
    "knn_values = [v for k, v in new_knn_metrics.items()]\n",
    "rf_values = [v for k, v in new_rf_metrics.items()]\n",
    "plt.xticks([r + 0.25 for r in range(4)], labels)\n",
    "ax = plt.subplot(111)\n",
    "ax.bar(r1, svm_values,width=0.25,color='b', align='center')\n",
    "ax.bar(r2, knn_values, width=0.25,color='g', align='center')\n",
    "ax.bar(r3, rf_values, width=0.25, color='r', align='center')\n",
    "plt.legend([\"SVM\", \"KNN\", \"RF\"])\n",
    "plt.title(\"Comparación de modelos según distintas métricas\")"
   ]
  },
  {
   "cell_type": "markdown",
   "metadata": {},
   "source": [
    "Los siguientes `DataFrames` permiten visualizar las salidas continuas y la verdadera etiqueta de los datos de *testing*."
   ]
  },
  {
   "cell_type": "code",
   "execution_count": 48,
   "metadata": {},
   "outputs": [],
   "source": [
    "new_svm_df = pd.DataFrame(model_predict(new_svm,  new_X_test), columns=[\"negative_probability\", \"positive_probability\"])\n",
    "new_knn_df = pd.DataFrame(model_predict(new_knn, new_X_test), columns=[\"negative_probability\", \"positive_probability\"])\n",
    "new_rf_df = pd.DataFrame(model_predict(new_rf, new_X_test), columns=[\"negative_probability\", \"positive_probability\"])\n",
    "new_svm_df[\"word_sentence\"] = new_words_test\n",
    "new_knn_df[\"word_sentence\"] = new_words_test\n",
    "new_rf_df[\"word_sentence\"] = new_words_test\n",
    "new_svm_df[\"true_label\"] = new_y_test\n",
    "new_knn_df[\"true_label\"] = new_y_test\n",
    "new_rf_df[\"true_label\"] = new_y_test\n",
    "new_svm_df = new_svm_df[[\"word_sentence\", \"negative_probability\", \"positive_probability\", \"true_label\"]]\n",
    "new_knn_df = new_knn_df[[\"word_sentence\", \"negative_probability\", \"positive_probability\", \"true_label\"]]\n",
    "new_rf_df = new_rf_df[[\"word_sentence\", \"negative_probability\", \"positive_probability\", \"true_label\"]]"
   ]
  },
  {
   "cell_type": "code",
   "execution_count": 49,
   "metadata": {},
   "outputs": [
    {
     "data": {
      "text/html": [
       "<div>\n",
       "<style scoped>\n",
       "    .dataframe tbody tr th:only-of-type {\n",
       "        vertical-align: middle;\n",
       "    }\n",
       "\n",
       "    .dataframe tbody tr th {\n",
       "        vertical-align: top;\n",
       "    }\n",
       "\n",
       "    .dataframe thead th {\n",
       "        text-align: right;\n",
       "    }\n",
       "</style>\n",
       "<table border=\"1\" class=\"dataframe\">\n",
       "  <thead>\n",
       "    <tr style=\"text-align: right;\">\n",
       "      <th></th>\n",
       "      <th>word_sentence</th>\n",
       "      <th>negative_probability</th>\n",
       "      <th>positive_probability</th>\n",
       "      <th>true_label</th>\n",
       "    </tr>\n",
       "  </thead>\n",
       "  <tbody>\n",
       "    <tr>\n",
       "      <th>236</th>\n",
       "      <td>desecrate</td>\n",
       "      <td>0.988686</td>\n",
       "      <td>0.011314</td>\n",
       "      <td>0</td>\n",
       "    </tr>\n",
       "    <tr>\n",
       "      <th>651</th>\n",
       "      <td>deformed</td>\n",
       "      <td>0.999983</td>\n",
       "      <td>0.000017</td>\n",
       "      <td>0</td>\n",
       "    </tr>\n",
       "    <tr>\n",
       "      <th>1191</th>\n",
       "      <td>capability</td>\n",
       "      <td>0.018597</td>\n",
       "      <td>0.981403</td>\n",
       "      <td>1</td>\n",
       "    </tr>\n",
       "    <tr>\n",
       "      <th>1350</th>\n",
       "      <td>you can even take self portraits with the outs...</td>\n",
       "      <td>0.188172</td>\n",
       "      <td>0.811828</td>\n",
       "      <td>1</td>\n",
       "    </tr>\n",
       "    <tr>\n",
       "      <th>1698</th>\n",
       "      <td>wane</td>\n",
       "      <td>0.977242</td>\n",
       "      <td>0.022758</td>\n",
       "      <td>0</td>\n",
       "    </tr>\n",
       "  </tbody>\n",
       "</table>\n",
       "</div>"
      ],
      "text/plain": [
       "                                          word_sentence  negative_probability  \\\n",
       "236                                           desecrate              0.988686   \n",
       "651                                            deformed              0.999983   \n",
       "1191                                         capability              0.018597   \n",
       "1350  you can even take self portraits with the outs...              0.188172   \n",
       "1698                                               wane              0.977242   \n",
       "\n",
       "      positive_probability  true_label  \n",
       "236               0.011314           0  \n",
       "651               0.000017           0  \n",
       "1191              0.981403           1  \n",
       "1350              0.811828           1  \n",
       "1698              0.022758           0  "
      ]
     },
     "metadata": {},
     "output_type": "display_data"
    },
    {
     "data": {
      "text/html": [
       "<div>\n",
       "<style scoped>\n",
       "    .dataframe tbody tr th:only-of-type {\n",
       "        vertical-align: middle;\n",
       "    }\n",
       "\n",
       "    .dataframe tbody tr th {\n",
       "        vertical-align: top;\n",
       "    }\n",
       "\n",
       "    .dataframe thead th {\n",
       "        text-align: right;\n",
       "    }\n",
       "</style>\n",
       "<table border=\"1\" class=\"dataframe\">\n",
       "  <thead>\n",
       "    <tr style=\"text-align: right;\">\n",
       "      <th></th>\n",
       "      <th>word_sentence</th>\n",
       "      <th>negative_probability</th>\n",
       "      <th>positive_probability</th>\n",
       "      <th>true_label</th>\n",
       "    </tr>\n",
       "  </thead>\n",
       "  <tbody>\n",
       "    <tr>\n",
       "      <th>236</th>\n",
       "      <td>desecrate</td>\n",
       "      <td>1.0</td>\n",
       "      <td>0.0</td>\n",
       "      <td>0</td>\n",
       "    </tr>\n",
       "    <tr>\n",
       "      <th>651</th>\n",
       "      <td>deformed</td>\n",
       "      <td>0.8</td>\n",
       "      <td>0.2</td>\n",
       "      <td>0</td>\n",
       "    </tr>\n",
       "    <tr>\n",
       "      <th>1191</th>\n",
       "      <td>capability</td>\n",
       "      <td>0.6</td>\n",
       "      <td>0.4</td>\n",
       "      <td>1</td>\n",
       "    </tr>\n",
       "    <tr>\n",
       "      <th>1350</th>\n",
       "      <td>you can even take self portraits with the outs...</td>\n",
       "      <td>0.8</td>\n",
       "      <td>0.2</td>\n",
       "      <td>1</td>\n",
       "    </tr>\n",
       "    <tr>\n",
       "      <th>1698</th>\n",
       "      <td>wane</td>\n",
       "      <td>0.8</td>\n",
       "      <td>0.2</td>\n",
       "      <td>0</td>\n",
       "    </tr>\n",
       "  </tbody>\n",
       "</table>\n",
       "</div>"
      ],
      "text/plain": [
       "                                          word_sentence  negative_probability  \\\n",
       "236                                           desecrate                   1.0   \n",
       "651                                            deformed                   0.8   \n",
       "1191                                         capability                   0.6   \n",
       "1350  you can even take self portraits with the outs...                   0.8   \n",
       "1698                                               wane                   0.8   \n",
       "\n",
       "      positive_probability  true_label  \n",
       "236                    0.0           0  \n",
       "651                    0.2           0  \n",
       "1191                   0.4           1  \n",
       "1350                   0.2           1  \n",
       "1698                   0.2           0  "
      ]
     },
     "metadata": {},
     "output_type": "display_data"
    },
    {
     "data": {
      "text/html": [
       "<div>\n",
       "<style scoped>\n",
       "    .dataframe tbody tr th:only-of-type {\n",
       "        vertical-align: middle;\n",
       "    }\n",
       "\n",
       "    .dataframe tbody tr th {\n",
       "        vertical-align: top;\n",
       "    }\n",
       "\n",
       "    .dataframe thead th {\n",
       "        text-align: right;\n",
       "    }\n",
       "</style>\n",
       "<table border=\"1\" class=\"dataframe\">\n",
       "  <thead>\n",
       "    <tr style=\"text-align: right;\">\n",
       "      <th></th>\n",
       "      <th>word_sentence</th>\n",
       "      <th>negative_probability</th>\n",
       "      <th>positive_probability</th>\n",
       "      <th>true_label</th>\n",
       "    </tr>\n",
       "  </thead>\n",
       "  <tbody>\n",
       "    <tr>\n",
       "      <th>236</th>\n",
       "      <td>desecrate</td>\n",
       "      <td>0.888889</td>\n",
       "      <td>0.111111</td>\n",
       "      <td>0</td>\n",
       "    </tr>\n",
       "    <tr>\n",
       "      <th>651</th>\n",
       "      <td>deformed</td>\n",
       "      <td>0.888889</td>\n",
       "      <td>0.111111</td>\n",
       "      <td>0</td>\n",
       "    </tr>\n",
       "    <tr>\n",
       "      <th>1191</th>\n",
       "      <td>capability</td>\n",
       "      <td>0.444444</td>\n",
       "      <td>0.555556</td>\n",
       "      <td>1</td>\n",
       "    </tr>\n",
       "    <tr>\n",
       "      <th>1350</th>\n",
       "      <td>you can even take self portraits with the outs...</td>\n",
       "      <td>0.444444</td>\n",
       "      <td>0.555556</td>\n",
       "      <td>1</td>\n",
       "    </tr>\n",
       "    <tr>\n",
       "      <th>1698</th>\n",
       "      <td>wane</td>\n",
       "      <td>0.777778</td>\n",
       "      <td>0.222222</td>\n",
       "      <td>0</td>\n",
       "    </tr>\n",
       "  </tbody>\n",
       "</table>\n",
       "</div>"
      ],
      "text/plain": [
       "                                          word_sentence  negative_probability  \\\n",
       "236                                           desecrate              0.888889   \n",
       "651                                            deformed              0.888889   \n",
       "1191                                         capability              0.444444   \n",
       "1350  you can even take self portraits with the outs...              0.444444   \n",
       "1698                                               wane              0.777778   \n",
       "\n",
       "      positive_probability  true_label  \n",
       "236               0.111111           0  \n",
       "651               0.111111           0  \n",
       "1191              0.555556           1  \n",
       "1350              0.555556           1  \n",
       "1698              0.222222           0  "
      ]
     },
     "metadata": {},
     "output_type": "display_data"
    }
   ],
   "source": [
    "random_words_sentences = new_svm_df.sample(5)[\"word_sentence\"].tolist()\n",
    "\n",
    "display(new_svm_df[new_svm_df[\"word_sentence\"].isin(random_words_sentences)])\n",
    "display(new_knn_df[new_knn_df[\"word_sentence\"].isin(random_words_sentences)])\n",
    "display(new_rf_df[new_rf_df[\"word_sentence\"].isin(random_words_sentences)])"
   ]
  },
  {
   "cell_type": "markdown",
   "metadata": {},
   "source": [
    "Finalmente, se serializan los modelos para referencias futuras."
   ]
  },
  {
   "cell_type": "code",
   "execution_count": 50,
   "metadata": {},
   "outputs": [],
   "source": [
    "save_model(new_svm, \"sentences_SVM\")\n",
    "save_model(new_knn, \"sentences_KNN\")\n",
    "save_model(new_rf, \"sentences_RF\")"
   ]
  },
  {
   "cell_type": "markdown",
   "metadata": {},
   "source": [
    "## Evaluación y caracterización de prejuicios"
   ]
  },
  {
   "cell_type": "code",
   "execution_count": 51,
   "metadata": {},
   "outputs": [],
   "source": [
    "def get_continent_countries(continent):\n",
    "    return [country[\"name\"] for country in countries if continent in country[\"continent\"]]\n",
    "\n",
    "def get_continent_demonyms(demonyms, continent_countries):\n",
    "    return demonyms[demonyms[\"place\"].isin(continent_countries)][\"demonym\"].tolist()"
   ]
  },
  {
   "cell_type": "code",
   "execution_count": 52,
   "metadata": {},
   "outputs": [],
   "source": [
    "american_countries = get_continent_countries(\"America\")\n",
    "european_countries = get_continent_countries(\"Europe\")\n",
    "african_countries = get_continent_countries(\"Africa\")\n",
    "asian_countries = get_continent_countries(\"Asia\")\n",
    "oceanian_countries = get_continent_countries(\"Oceania\")"
   ]
  },
  {
   "cell_type": "code",
   "execution_count": 53,
   "metadata": {},
   "outputs": [],
   "source": [
    "test_svm = joblib.load(\"best_sentences_SVM.pkl\") "
   ]
  },
  {
   "cell_type": "markdown",
   "metadata": {},
   "source": [
    "https://gist.github.com/pamelafox/986163\n",
    "https://github.com/knowitall/chunkedextractor/blob/master/src/main/resources/edu/knowitall/chunkedextractor/demonyms.csv"
   ]
  },
  {
   "cell_type": "code",
   "execution_count": 54,
   "metadata": {},
   "outputs": [],
   "source": [
    "demonyms = pd.read_csv(\"demonyms.csv\", header=None)\n",
    "demonyms.columns = [\"demonym\", \"place\"]\n",
    "american_demonyms = get_continent_demonyms(demonyms, american_countries)\n",
    "european_demonyms = get_continent_demonyms(demonyms, european_countries)\n",
    "african_demonyms = get_continent_demonyms(demonyms, african_countries)\n",
    "asian_demonyms = get_continent_demonyms(demonyms, asian_countries)\n",
    "oceanian_demonyms = get_continent_demonyms(demonyms, oceanian_countries)"
   ]
  },
  {
   "cell_type": "code",
   "execution_count": 55,
   "metadata": {},
   "outputs": [],
   "source": [
    "def generate_sentence(country_attribute, sentence, continent_demonyms, continent_countries):\n",
    "    if country_attribute not in countries[0].keys():\n",
    "        return list({sentence.format(demonym) for demonym in continent_demonyms})\n",
    "    else:\n",
    "        return list({sentence.format(country) for country in continent_countries})"
   ]
  },
  {
   "cell_type": "code",
   "execution_count": 56,
   "metadata": {},
   "outputs": [],
   "source": [
    "american_food_sentence = generate_sentence(\"demonym\", \"Let's go get {} food\", american_demonyms, american_countries)\n",
    "european_food_sentence = generate_sentence(\"demonym\", \"Let's go get {} food\", european_demonyms, european_countries)\n",
    "african_food_sentence = generate_sentence(\"demonym\", \"Let's go get {} food\", african_demonyms, african_countries)\n",
    "asian_food_sentence = generate_sentence(\"demonym\", \"Let's go get {} food\", asian_demonyms, asian_countries)\n",
    "oceanian_food_sentence = generate_sentence(\"demonym\", \"Let's go get {} food\", oceanian_demonyms, oceanian_countries)"
   ]
  },
  {
   "cell_type": "code",
   "execution_count": 57,
   "metadata": {},
   "outputs": [],
   "source": [
    "vectorized_food_american = list(map(prepare_sentence, american_food_sentence))\n",
    "vectorized_food_european = list(map(prepare_sentence, european_food_sentence))\n",
    "vectorized_food_african = list(map(prepare_sentence, african_food_sentence))\n",
    "vectorized_food_asian = list(map(prepare_sentence, asian_food_sentence))\n",
    "vectorized_food_oceanian = list(map(prepare_sentence, oceanian_food_sentence))"
   ]
  },
  {
   "cell_type": "code",
   "execution_count": 58,
   "metadata": {},
   "outputs": [],
   "source": [
    "american_food_predictions = pd.DataFrame(model_predict(test_svm, vectorized_food_american), columns=[\"negative_probability\", \"positive_probability\"])\n",
    "european_food_predictions = pd.DataFrame(model_predict(test_svm, vectorized_food_european), columns=[\"negative_probability\", \"positive_probability\"])\n",
    "african_food_predictions = pd.DataFrame(model_predict(test_svm, vectorized_food_african), columns=[\"negative_probability\", \"positive_probability\"])\n",
    "asian_food_predictions = pd.DataFrame(model_predict(test_svm, vectorized_food_asian), columns=[\"negative_probability\", \"positive_probability\"])\n",
    "oceanian_food_predictions = pd.DataFrame(model_predict(test_svm, vectorized_food_oceanian), columns=[\"negative_probability\", \"positive_probability\"])"
   ]
  },
  {
   "cell_type": "code",
   "execution_count": 59,
   "metadata": {},
   "outputs": [],
   "source": [
    "american_food_predictions_mean = american_food_predictions.mean().tolist()\n",
    "european_food_predictions_mean = european_food_predictions.mean().tolist()\n",
    "african_food_predictions_mean = african_food_predictions.mean().tolist()\n",
    "asian_food_predictions_mean = asian_food_predictions.mean().tolist()\n",
    "oceanian_food_predictions_mean = oceanian_food_predictions.mean().tolist()"
   ]
  },
  {
   "cell_type": "code",
   "execution_count": 60,
   "metadata": {},
   "outputs": [],
   "source": [
    "continents_food_mean = {\n",
    "    \"América\": american_food_predictions_mean,\n",
    "    \"Europa\": european_food_predictions_mean,\n",
    "    \"África\": african_food_predictions_mean,\n",
    "    \"Asia\": asian_food_predictions_mean,\n",
    "    \"Oceanía\": oceanian_food_predictions_mean,\n",
    "}"
   ]
  },
  {
   "cell_type": "code",
   "execution_count": 61,
   "metadata": {},
   "outputs": [
    {
     "name": "stdout",
     "output_type": "stream",
     "text": [
      "{'América': [0.4553298938131498, 0.5446701061868502], 'Europa': [0.39231737332170896, 0.607682626678291], 'África': [0.4968998145232733, 0.5031001854767267], 'Asia': [0.45735494185815356, 0.5426450581418465], 'Oceanía': [0.4513419726778654, 0.5486580273221346]}\n"
     ]
    }
   ],
   "source": [
    "print(continents_food_mean)"
   ]
  },
  {
   "cell_type": "code",
   "execution_count": 62,
   "metadata": {},
   "outputs": [],
   "source": [
    "negative_food_means = {k: v[0] for k, v in continents_food_mean.items()}\n",
    "positive_food_means = {k: v[1] for k, v in continents_food_mean.items()}"
   ]
  },
  {
   "cell_type": "code",
   "execution_count": 63,
   "metadata": {},
   "outputs": [
    {
     "data": {
      "text/plain": [
       "Text(0,0.5,'Probabilidad')"
      ]
     },
     "execution_count": 63,
     "metadata": {},
     "output_type": "execute_result"
    },
    {
     "data": {
      "image/png": "[encoded data removed]",
      "text/plain": [
       "<Figure size 432x288 with 1 Axes>"
      ]
     },
     "metadata": {},
     "output_type": "display_data"
    }
   ],
   "source": [
    "plt.bar(negative_food_means.keys(), negative_food_means.values())\n",
    "plt.title(\"Probabilidad promedio de sentimiento negativo para la frase 'Let's go get {gentilicio} food' según continente\")\n",
    "plt.xlabel(\"Continente\")\n",
    "plt.ylabel(\"Probabilidad\")"
   ]
  },
  {
   "cell_type": "code",
   "execution_count": 64,
   "metadata": {},
   "outputs": [
    {
     "data": {
      "text/plain": [
       "Text(0,0.5,'Probabilidad')"
      ]
     },
     "execution_count": 64,
     "metadata": {},
     "output_type": "execute_result"
    },
    {
     "data": {
      "image/png": "[encoded data removed]",
      "text/plain": [
       "<Figure size 432x288 with 1 Axes>"
      ]
     },
     "metadata": {},
     "output_type": "display_data"
    }
   ],
   "source": [
    "plt.bar(positive_food_means.keys(), positive_food_means.values())\n",
    "plt.title(\"Probabilidad promedio de sentimiento positivo para la frase 'Let's go get {gentilicio} food' según continente\")\n",
    "plt.xlabel(\"Continente\")\n",
    "plt.ylabel(\"Probabilidad\")"
   ]
  },
  {
   "cell_type": "code",
   "execution_count": 65,
   "metadata": {},
   "outputs": [],
   "source": [
    "american_places_sentence = generate_sentence(\"name\", \"Let's go to {}\", american_demonyms, american_countries)\n",
    "european_places_sentence = generate_sentence(\"name\", \"Let's go to {}\", european_demonyms, european_countries)\n",
    "african_places_sentence = generate_sentence(\"name\", \"Let's go to {}\", african_demonyms, african_countries)\n",
    "asian_places_sentence = generate_sentence(\"name\", \"Let's go to {}\", asian_demonyms, asian_countries)\n",
    "oceanian_places_sentence = generate_sentence(\"name\", \"Let's go to {}\", oceanian_demonyms, oceanian_countries)"
   ]
  },
  {
   "cell_type": "code",
   "execution_count": 66,
   "metadata": {},
   "outputs": [],
   "source": [
    "vectorized_place_american = list(map(prepare_sentence, american_places_sentence))\n",
    "vectorized_place_european = list(map(prepare_sentence, european_places_sentence))\n",
    "vectorized_place_african = list(map(prepare_sentence, african_places_sentence))\n",
    "vectorized_place_asian = list(map(prepare_sentence, asian_places_sentence))\n",
    "vectorized_place_oceanian = list(map(prepare_sentence, oceanian_places_sentence))"
   ]
  },
  {
   "cell_type": "code",
   "execution_count": 67,
   "metadata": {},
   "outputs": [],
   "source": [
    "american_places_predictions = pd.DataFrame(model_predict(test_svm, vectorized_place_american), columns=[\"negative_probability\", \"positive_probability\"])\n",
    "european_places_predictions = pd.DataFrame(model_predict(test_svm, vectorized_place_european), columns=[\"negative_probability\", \"positive_probability\"])\n",
    "african_places_predictions = pd.DataFrame(model_predict(test_svm, vectorized_place_african), columns=[\"negative_probability\", \"positive_probability\"])\n",
    "asian_places_predictions = pd.DataFrame(model_predict(test_svm, vectorized_place_asian), columns=[\"negative_probability\", \"positive_probability\"])\n",
    "oceanian_places_predictions = pd.DataFrame(model_predict(test_svm, vectorized_place_oceanian), columns=[\"negative_probability\", \"positive_probability\"])"
   ]
  },
  {
   "cell_type": "code",
   "execution_count": 68,
   "metadata": {},
   "outputs": [],
   "source": [
    "american_places_predictions_mean = american_places_predictions.mean().tolist()\n",
    "european_places_predictions_mean = european_places_predictions.mean().tolist()\n",
    "african_places_predictions_mean = african_places_predictions.mean().tolist()\n",
    "asian_places_predictions_mean = asian_places_predictions.mean().tolist()\n",
    "oceanian_places_predictions_mean = oceanian_places_predictions.mean().tolist()"
   ]
  },
  {
   "cell_type": "code",
   "execution_count": 69,
   "metadata": {},
   "outputs": [],
   "source": [
    "continents_places_mean = {\n",
    "    \"América\": american_places_predictions_mean,\n",
    "    \"Europa\": european_places_predictions_mean,\n",
    "    \"África\": african_places_predictions_mean,\n",
    "    \"Asia\": asian_places_predictions_mean,\n",
    "    \"Oceanía\": oceanian_places_predictions_mean,\n",
    "}"
   ]
  },
  {
   "cell_type": "code",
   "execution_count": 70,
   "metadata": {},
   "outputs": [
    {
     "name": "stdout",
     "output_type": "stream",
     "text": [
      "{'América': [0.2182534610332525, 0.7817465389667476], 'Europa': [0.17359308359253448, 0.8264069164074656], 'África': [0.38911319726481985, 0.6108868027351801], 'Asia': [0.2777324388189429, 0.7222675611810571], 'Oceanía': [0.2990902614629537, 0.7009097385370463]}\n"
     ]
    }
   ],
   "source": [
    "print(continents_places_mean)"
   ]
  },
  {
   "cell_type": "code",
   "execution_count": 71,
   "metadata": {},
   "outputs": [],
   "source": [
    "negative_places_means = {k: v[0] for k, v in continents_places_mean.items()}\n",
    "positive_places_means = {k: v[1] for k, v in continents_places_mean.items()}"
   ]
  },
  {
   "cell_type": "code",
   "execution_count": 72,
   "metadata": {},
   "outputs": [
    {
     "data": {
      "text/plain": [
       "Text(0.5,1,\"Probabilidad promedio de sentimiento negativo para la frase 'Let's go to {país}' según continente\")"
      ]
     },
     "execution_count": 72,
     "metadata": {},
     "output_type": "execute_result"
    },
    {
     "data": {
      "image/png": "[encoded data removed]",
      "text/plain": [
       "<Figure size 432x288 with 1 Axes>"
      ]
     },
     "metadata": {},
     "output_type": "display_data"
    }
   ],
   "source": [
    "plt.bar(negative_places_means.keys(), negative_places_means.values())\n",
    "plt.title(\"Probabilidad promedio de sentimiento negativo según continente\")\n",
    "plt.xlabel(\"Continente\")\n",
    "plt.ylabel(\"Probabilidad\")\n",
    "plt.title(\"Probabilidad promedio de sentimiento negativo para la frase 'Let's go to {país}' según continente\")"
   ]
  },
  {
   "cell_type": "code",
   "execution_count": 73,
   "metadata": {},
   "outputs": [
    {
     "data": {
      "text/plain": [
       "Text(0.5,1,\"Probabilidad promedio de sentimiento positivo para la frase 'Let's go to {país}' según continente\")"
      ]
     },
     "execution_count": 73,
     "metadata": {},
     "output_type": "execute_result"
    },
    {
     "data": {
      "image/png": "[encoded data removed]",
      "text/plain": [
       "<Figure size 432x288 with 1 Axes>"
      ]
     },
     "metadata": {},
     "output_type": "display_data"
    }
   ],
   "source": [
    "plt.bar(positive_places_means.keys(), positive_places_means.values())\n",
    "plt.title(\"Probabilidad promedio de sentimiento positivo según continente\")\n",
    "plt.xlabel(\"Continente\")\n",
    "plt.ylabel(\"Probabilidad\")\n",
    "plt.title(\"Probabilidad promedio de sentimiento positivo para la frase 'Let's go to {país}' según continente\")"
   ]
  },
  {
   "cell_type": "markdown",
   "metadata": {},
   "source": [
    "### Definición de una métrica para el prejuicio racista"
   ]
  },
  {
   "cell_type": "code",
   "execution_count": 181,
   "metadata": {},
   "outputs": [],
   "source": [
    "american_demonyms_lemmatized = {nltk.stem.WordNetLemmatizer().lemmatize(word.lower()) for word in american_demonyms}\n",
    "european_demonyms_lemmatized = {nltk.stem.WordNetLemmatizer().lemmatize(word.lower()) for word in european_demonyms}\n",
    "african_demonyms_lemmatized = {nltk.stem.WordNetLemmatizer().lemmatize(word.lower()) for word in african_demonyms}\n",
    "asian_demonyms_lemmatized = {nltk.stem.WordNetLemmatizer().lemmatize(word.lower()) for word in asian_demonyms}\n",
    "oceanian_demonyms_lemmatized = {nltk.stem.WordNetLemmatizer().lemmatize(word.lower()) for word in oceanian_demonyms}"
   ]
  },
  {
   "cell_type": "code",
   "execution_count": 182,
   "metadata": {},
   "outputs": [
    {
     "name": "stdout",
     "output_type": "stream",
     "text": [
      "[[0.016247 0.983753]]\n",
      "[[0.688233 0.311767]]\n",
      "[[0.459445 0.540555]]\n"
     ]
    }
   ],
   "source": [
    "european_demonym_matrix = np.empty((0, 300))\n",
    "for word in european_demonyms_lemmatized:\n",
    "    if word in glove_words:\n",
    "        european_demonym_matrix = np.append(european_demonym_matrix, [vec(word)], axis=0)\n",
    "    else:\n",
    "        european_demonym_matrix = np.append(european_demonym_matrix, [vec(\"unk\")], axis=0)\n",
    "\n",
    "european_min_vector = european_demonym_matrix.min(0)\n",
    "european_max_vector = european_demonym_matrix.max(0)\n",
    "european_mean_vector = european_demonym_matrix.mean(0)\n",
    "european_min_prediction = model_predict(test_svm, [european_min_vector])\n",
    "european_max_prediction = model_predict(test_svm, [european_max_vector])\n",
    "european_mean_prediction = model_predict(test_svm, [european_mean_vector])\n",
    "\n",
    "print(european_min_prediction)\n",
    "print(european_max_prediction)\n",
    "print(european_mean_prediction)"
   ]
  },
  {
   "cell_type": "code",
   "execution_count": 183,
   "metadata": {},
   "outputs": [],
   "source": [
    "def get_prejudge_metric(demonym_vector, model):\n",
    "    return abs(european_mean_prediction[0][1] - model_predict(model, [demonym_vector])[0][1])"
   ]
  },
  {
   "cell_type": "code",
   "execution_count": 184,
   "metadata": {},
   "outputs": [],
   "source": [
    "american_prejudge = [get_prejudge_metric(vector, test_svm) for vector in \n",
    "                     map(prepare_sentence, american_demonyms_lemmatized)]\n",
    "european_prejudge = [get_prejudge_metric(vector, test_svm) for vector in \n",
    "                     map(prepare_sentence, european_demonyms_lemmatized)]\n",
    "african_prejudge = [get_prejudge_metric(vector, test_svm) for vector in \n",
    "                     map(prepare_sentence, african_demonyms_lemmatized)]\n",
    "asian_prejudge = [get_prejudge_metric(vector, test_svm) for vector in \n",
    "                     map(prepare_sentence, asian_demonyms_lemmatized)]\n",
    "oceanian_prejudge = [get_prejudge_metric(vector, test_svm) for vector in \n",
    "                     map(prepare_sentence, oceanian_demonyms_lemmatized)]"
   ]
  },
  {
   "cell_type": "code",
   "execution_count": 185,
   "metadata": {},
   "outputs": [],
   "source": [
    "prejudge = {\n",
    "    \"América\": np.array(american_prejudge).mean(),\n",
    "    \"Europa\": np.array(european_prejudge).mean(),\n",
    "    \"África\": np.array(african_prejudge).mean(),\n",
    "    \"Asia\": np.array(asian_prejudge).mean(),\n",
    "    \"Oceanía\": np.array(oceanian_prejudge).mean(),\n",
    "}"
   ]
  },
  {
   "cell_type": "code",
   "execution_count": 186,
   "metadata": {},
   "outputs": [
    {
     "name": "stdout",
     "output_type": "stream",
     "text": [
      "{'América': 0.3124134232004604, 'Europa': 0.27952178782498344, 'África': 0.32216301114960644, 'Asia': 0.296201580051588, 'Oceanía': 0.3267150239048531}\n"
     ]
    }
   ],
   "source": [
    "print(prejudge)"
   ]
  },
  {
   "cell_type": "code",
   "execution_count": 187,
   "metadata": {},
   "outputs": [
    {
     "data": {
      "text/plain": [
       "Text(0.5,1,'Métrica de prejuicio según continente')"
      ]
     },
     "execution_count": 187,
     "metadata": {},
     "output_type": "execute_result"
    },
    {
     "data": {
      "image/png": "[encoded data removed]",
      "text/plain": [
       "<Figure size 432x288 with 1 Axes>"
      ]
     },
     "metadata": {},
     "output_type": "display_data"
    }
   ],
   "source": [
    "plt.bar(prejudge.keys(), prejudge.values())\n",
    "plt.xlabel(\"Continente\")\n",
    "plt.ylabel(\"Métrica de prejuicio\")\n",
    "plt.title(\"Métrica de prejuicio según continente\")"
   ]
  },
  {
   "cell_type": "markdown",
   "metadata": {},
   "source": [
    "**TO-DO**: cambiar el embedding de las nacionalidades al de european_min_vector (porque es el que maximiza el positivo), reentrenar (agregar un if para la vectorización) y ver cómo cambia todo (si es que cambia)."
   ]
  },
  {
   "cell_type": "code",
   "execution_count": null,
   "metadata": {},
   "outputs": [],
   "source": []
  }
 ],
 "metadata": {
  "kernelspec": {
   "display_name": "Python 3",
   "language": "python",
   "name": "python3"
  },
  "language_info": {
   "codemirror_mode": {
    "name": "ipython",
    "version": 3
   },
   "file_extension": ".py",
   "mimetype": "text/x-python",
   "name": "python",
   "nbconvert_exporter": "python",
   "pygments_lexer": "ipython3",
   "version": "3.6.4"
  }
 },
 "nbformat": 4,
 "nbformat_minor": 2
}
